{
 "cells": [
  {
   "cell_type": "code",
   "execution_count": 1,
   "id": "c4db3f2d",
   "metadata": {},
   "outputs": [],
   "source": [
    "import pandas as pd\n",
    "import seaborn as sns\n",
    "from sklearn.ensemble import RandomForestRegressor as RFR\n",
    "from sklearn.metrics import mean_squared_error\n",
    "from sklearn.model_selection import KFold\n",
    "import numpy as np\n",
    "from sklearn.model_selection import train_test_split\n",
    "import matplotlib.pyplot as plt\n",
    "from sklearn.metrics import roc_auc_score"
   ]
  },
  {
   "cell_type": "markdown",
   "id": "05069729",
   "metadata": {},
   "source": [
    "# データ読み込み"
   ]
  },
  {
   "cell_type": "code",
   "execution_count": 2,
   "id": "361d249a",
   "metadata": {},
   "outputs": [],
   "source": [
    "train = pd.read_csv(\"train_data.csv\")\n",
    "test = pd.read_csv(\"test_data.csv\")\n",
    "stations = pd.read_csv(\"station_list.csv\")"
   ]
  },
  {
   "cell_type": "code",
   "execution_count": 3,
   "id": "9168222f",
   "metadata": {},
   "outputs": [],
   "source": [
    "#欠損値削除\n",
    "train[\"reviews_per_month\"] = train[\"reviews_per_month\"].fillna(0)\n",
    "train[\"last_review\"] = train[\"last_review\"].fillna(\"1900-01-01\")\n",
    "test[\"reviews_per_month\"] = test[\"reviews_per_month\"].fillna(0)\n",
    "test[\"last_review\"] = test[\"last_review\"].fillna(\"1900-01-01\")"
   ]
  },
  {
   "cell_type": "code",
   "execution_count": 4,
   "id": "ccbe2bb3",
   "metadata": {},
   "outputs": [
    {
     "name": "stdout",
     "output_type": "stream",
     "text": [
      "distance.csv already existed\n"
     ]
    }
   ],
   "source": [
    "!station_distance.py"
   ]
  },
  {
   "cell_type": "code",
   "execution_count": 5,
   "id": "47b10564",
   "metadata": {},
   "outputs": [],
   "source": [
    "distance = pd.read_csv(\"distance.csv\")\n",
    "#adversarial validationのためのラベル付け\n",
    "train[\"label\"] = 1\n",
    "test[\"label\"] = 0\n",
    "all_data = pd.concat([train,test],axis=0)\n",
    "all_data[\"near_station\"] = distance[\"near_station\"]\n",
    "all_data[\"dist_from_sta\"] = distance[\"dist_from_sta\"]\n",
    "train.drop(\"label\",axis=1,inplace=True)\n",
    "test.drop(\"label\",axis=1,inplace=True)"
   ]
  },
  {
   "cell_type": "markdown",
   "id": "1ee9f05e",
   "metadata": {},
   "source": [
    "# 特徴量追加"
   ]
  },
  {
   "cell_type": "code",
   "execution_count": 6,
   "id": "4d59ebf4",
   "metadata": {},
   "outputs": [],
   "source": [
    "train[\"180_over\"] = (train[\"availability_365\"] > 180).astype(int)\n",
    "test[\"180_over\"] = (test[\"availability_365\"] > 180).astype(int)\n",
    "all_data[\"180_over\"] = (all_data[\"availability_365\"] > 180).astype(int)"
   ]
  },
  {
   "cell_type": "code",
   "execution_count": 7,
   "id": "3175b6cc",
   "metadata": {},
   "outputs": [
    {
     "data": {
      "text/html": [
       "<div>\n",
       "<style scoped>\n",
       "    .dataframe tbody tr th:only-of-type {\n",
       "        vertical-align: middle;\n",
       "    }\n",
       "\n",
       "    .dataframe tbody tr th {\n",
       "        vertical-align: top;\n",
       "    }\n",
       "\n",
       "    .dataframe thead th {\n",
       "        text-align: right;\n",
       "    }\n",
       "</style>\n",
       "<table border=\"1\" class=\"dataframe\">\n",
       "  <thead>\n",
       "    <tr style=\"text-align: right;\">\n",
       "      <th></th>\n",
       "      <th>id</th>\n",
       "      <th>name</th>\n",
       "      <th>host_id</th>\n",
       "      <th>neighbourhood</th>\n",
       "      <th>latitude</th>\n",
       "      <th>longitude</th>\n",
       "      <th>room_type</th>\n",
       "      <th>minimum_nights</th>\n",
       "      <th>number_of_reviews</th>\n",
       "      <th>last_review</th>\n",
       "      <th>reviews_per_month</th>\n",
       "      <th>availability_365</th>\n",
       "      <th>y</th>\n",
       "      <th>label</th>\n",
       "      <th>near_station</th>\n",
       "      <th>dist_from_sta</th>\n",
       "      <th>180_over</th>\n",
       "    </tr>\n",
       "  </thead>\n",
       "  <tbody>\n",
       "    <tr>\n",
       "      <th>0</th>\n",
       "      <td>1</td>\n",
       "      <td>KiyosumiShirakawa 3min|★SkyTree★|WIFI|Max4|Tre...</td>\n",
       "      <td>242899459</td>\n",
       "      <td>Koto Ku</td>\n",
       "      <td>35.68185</td>\n",
       "      <td>139.80310</td>\n",
       "      <td>Entire home/apt</td>\n",
       "      <td>1</td>\n",
       "      <td>55</td>\n",
       "      <td>2020-04-25</td>\n",
       "      <td>2.21</td>\n",
       "      <td>173</td>\n",
       "      <td>12008.0</td>\n",
       "      <td>1</td>\n",
       "      <td>清澄白河</td>\n",
       "      <td>385.676932</td>\n",
       "      <td>0</td>\n",
       "    </tr>\n",
       "    <tr>\n",
       "      <th>1</th>\n",
       "      <td>2</td>\n",
       "      <td>Downtown Tokyo Iriya next to Ueno</td>\n",
       "      <td>308879948</td>\n",
       "      <td>Taito Ku</td>\n",
       "      <td>35.72063</td>\n",
       "      <td>139.78536</td>\n",
       "      <td>Entire home/apt</td>\n",
       "      <td>6</td>\n",
       "      <td>72</td>\n",
       "      <td>2020-03-25</td>\n",
       "      <td>2.11</td>\n",
       "      <td>9</td>\n",
       "      <td>6667.0</td>\n",
       "      <td>1</td>\n",
       "      <td>入谷</td>\n",
       "      <td>155.380783</td>\n",
       "      <td>0</td>\n",
       "    </tr>\n",
       "    <tr>\n",
       "      <th>2</th>\n",
       "      <td>3</td>\n",
       "      <td>Japan Style,Private,Affordable,4min to Sta.</td>\n",
       "      <td>300877823</td>\n",
       "      <td>Katsushika Ku</td>\n",
       "      <td>35.74723</td>\n",
       "      <td>139.82349</td>\n",
       "      <td>Entire home/apt</td>\n",
       "      <td>1</td>\n",
       "      <td>18</td>\n",
       "      <td>2020-03-23</td>\n",
       "      <td>3.46</td>\n",
       "      <td>288</td>\n",
       "      <td>9923.0</td>\n",
       "      <td>1</td>\n",
       "      <td>堀切菖蒲園</td>\n",
       "      <td>369.710584</td>\n",
       "      <td>1</td>\n",
       "    </tr>\n",
       "    <tr>\n",
       "      <th>3</th>\n",
       "      <td>4</td>\n",
       "      <td>4 min to Shinjuku Sta. by train / 2 ppl / Wi-fi</td>\n",
       "      <td>236935461</td>\n",
       "      <td>Shibuya Ku</td>\n",
       "      <td>35.68456</td>\n",
       "      <td>139.68077</td>\n",
       "      <td>Entire home/apt</td>\n",
       "      <td>1</td>\n",
       "      <td>2</td>\n",
       "      <td>2020-04-02</td>\n",
       "      <td>1.76</td>\n",
       "      <td>87</td>\n",
       "      <td>8109.0</td>\n",
       "      <td>1</td>\n",
       "      <td>初台</td>\n",
       "      <td>626.117356</td>\n",
       "      <td>0</td>\n",
       "    </tr>\n",
       "    <tr>\n",
       "      <th>4</th>\n",
       "      <td>5</td>\n",
       "      <td>LICENSED SHINJUKU HOUSE: Heart of the action!</td>\n",
       "      <td>243408889</td>\n",
       "      <td>Shinjuku Ku</td>\n",
       "      <td>35.69840</td>\n",
       "      <td>139.70467</td>\n",
       "      <td>Entire home/apt</td>\n",
       "      <td>1</td>\n",
       "      <td>86</td>\n",
       "      <td>2020-01-30</td>\n",
       "      <td>2.00</td>\n",
       "      <td>156</td>\n",
       "      <td>100390.0</td>\n",
       "      <td>1</td>\n",
       "      <td>東新宿</td>\n",
       "      <td>265.953843</td>\n",
       "      <td>0</td>\n",
       "    </tr>\n",
       "  </tbody>\n",
       "</table>\n",
       "</div>"
      ],
      "text/plain": [
       "   id                                               name    host_id  \\\n",
       "0   1  KiyosumiShirakawa 3min|★SkyTree★|WIFI|Max4|Tre...  242899459   \n",
       "1   2                  Downtown Tokyo Iriya next to Ueno  308879948   \n",
       "2   3        Japan Style,Private,Affordable,4min to Sta.  300877823   \n",
       "3   4    4 min to Shinjuku Sta. by train / 2 ppl / Wi-fi  236935461   \n",
       "4   5      LICENSED SHINJUKU HOUSE: Heart of the action!  243408889   \n",
       "\n",
       "   neighbourhood  latitude  longitude        room_type  minimum_nights  \\\n",
       "0        Koto Ku  35.68185  139.80310  Entire home/apt               1   \n",
       "1       Taito Ku  35.72063  139.78536  Entire home/apt               6   \n",
       "2  Katsushika Ku  35.74723  139.82349  Entire home/apt               1   \n",
       "3     Shibuya Ku  35.68456  139.68077  Entire home/apt               1   \n",
       "4    Shinjuku Ku  35.69840  139.70467  Entire home/apt               1   \n",
       "\n",
       "   number_of_reviews last_review  reviews_per_month  availability_365  \\\n",
       "0                 55  2020-04-25               2.21               173   \n",
       "1                 72  2020-03-25               2.11                 9   \n",
       "2                 18  2020-03-23               3.46               288   \n",
       "3                  2  2020-04-02               1.76                87   \n",
       "4                 86  2020-01-30               2.00               156   \n",
       "\n",
       "          y  label near_station  dist_from_sta  180_over  \n",
       "0   12008.0      1         清澄白河     385.676932         0  \n",
       "1    6667.0      1           入谷     155.380783         0  \n",
       "2    9923.0      1        堀切菖蒲園     369.710584         1  \n",
       "3    8109.0      1           初台     626.117356         0  \n",
       "4  100390.0      1          東新宿     265.953843         0  "
      ]
     },
     "execution_count": 7,
     "metadata": {},
     "output_type": "execute_result"
    }
   ],
   "source": [
    "all_data.head()"
   ]
  },
  {
   "cell_type": "markdown",
   "id": "403e7dde",
   "metadata": {},
   "source": [
    "# 特徴量削除"
   ]
  },
  {
   "cell_type": "code",
   "execution_count": 8,
   "id": "5ed68887",
   "metadata": {},
   "outputs": [],
   "source": [
    "id = test[\"id\"]\n",
    "drop_list = [\"id\",\"host_id\",\"latitude\",\"longitude\"]\n",
    "train.drop(drop_list,axis=1,inplace=True)\n",
    "test.drop(drop_list,axis=1,inplace=True)\n",
    "all_data.drop([\"y\"],axis=1,inplace=True)\n",
    "all_data.drop(drop_list,axis=1,inplace=True)"
   ]
  },
  {
   "cell_type": "code",
   "execution_count": 9,
   "id": "5498817e",
   "metadata": {},
   "outputs": [
    {
     "data": {
      "text/plain": [
       "Index(['name', 'neighbourhood', 'room_type', 'minimum_nights',\n",
       "       'number_of_reviews', 'last_review', 'reviews_per_month',\n",
       "       'availability_365', 'label', 'near_station', 'dist_from_sta',\n",
       "       '180_over'],\n",
       "      dtype='object')"
      ]
     },
     "execution_count": 9,
     "metadata": {},
     "output_type": "execute_result"
    }
   ],
   "source": [
    "all_data.columns"
   ]
  },
  {
   "cell_type": "code",
   "execution_count": 10,
   "id": "c1ddd96f",
   "metadata": {},
   "outputs": [],
   "source": [
    "one_hot_list = [\"room_type\",\"neighbourhood\"]\n",
    "all_data = pd.get_dummies(all_data,columns=one_hot_list)"
   ]
  },
  {
   "cell_type": "code",
   "execution_count": 11,
   "id": "e004411a",
   "metadata": {},
   "outputs": [
    {
     "name": "stdout",
     "output_type": "stream",
     "text": [
      "0.7798816552643362\n"
     ]
    }
   ],
   "source": [
    "X_all = all_data.drop([\"label\"],axis=1).select_dtypes(exclude=\"object\")\n",
    "y_all = all_data[\"label\"]\n",
    "X_train_adv, X_valid_adv, y_train_adv, y_valid_adv = train_test_split(X_all, y_all, test_size=0.33, random_state=42, shuffle=True)\n",
    "model = RFR()\n",
    "model.fit(X_train_adv, y_train_adv)\n",
    "y_pred = model.predict(X_valid_adv)\n",
    "current_roc_auc_score = roc_auc_score(y_valid_adv,y_pred)\n",
    "print(current_roc_auc_score)"
   ]
  },
  {
   "cell_type": "code",
   "execution_count": 29,
   "id": "0ff76830",
   "metadata": {},
   "outputs": [
    {
     "ename": "KeyboardInterrupt",
     "evalue": "",
     "output_type": "error",
     "traceback": [
      "\u001b[1;31m---------------------------------------------------------------------------\u001b[0m",
      "\u001b[1;31mKeyboardInterrupt\u001b[0m                         Traceback (most recent call last)",
      "\u001b[1;32mc:\\Users\\yuuya\\OneDrive\\デスクトップ\\inn_price\\baseline.ipynb Cell 15'\u001b[0m in \u001b[0;36m<cell line: 1>\u001b[1;34m()\u001b[0m\n\u001b[0;32m      <a href='vscode-notebook-cell:/c%3A/Users/yuuya/OneDrive/%E3%83%87%E3%82%B9%E3%82%AF%E3%83%88%E3%83%83%E3%83%97/inn_price/baseline.ipynb#ch0000014?line=7'>8</a>\u001b[0m tr_x, va_x \u001b[39m=\u001b[39m X_all\u001b[39m.\u001b[39miloc[tr_idx], X_all\u001b[39m.\u001b[39miloc[va_idx]\n\u001b[0;32m      <a href='vscode-notebook-cell:/c%3A/Users/yuuya/OneDrive/%E3%83%87%E3%82%B9%E3%82%AF%E3%83%88%E3%83%83%E3%83%97/inn_price/baseline.ipynb#ch0000014?line=8'>9</a>\u001b[0m tr_y, va_y \u001b[39m=\u001b[39m y_all\u001b[39m.\u001b[39miloc[tr_idx], y_all\u001b[39m.\u001b[39miloc[va_idx]\n\u001b[1;32m---> <a href='vscode-notebook-cell:/c%3A/Users/yuuya/OneDrive/%E3%83%87%E3%82%B9%E3%82%AF%E3%83%88%E3%83%83%E3%83%97/inn_price/baseline.ipynb#ch0000014?line=9'>10</a>\u001b[0m model\u001b[39m.\u001b[39;49mfit(tr_x, tr_y)\n\u001b[0;32m     <a href='vscode-notebook-cell:/c%3A/Users/yuuya/OneDrive/%E3%83%87%E3%82%B9%E3%82%AF%E3%83%88%E3%83%83%E3%83%97/inn_price/baseline.ipynb#ch0000014?line=10'>11</a>\u001b[0m va_pred \u001b[39m=\u001b[39m model\u001b[39m.\u001b[39mpredict(va_x)\n\u001b[0;32m     <a href='vscode-notebook-cell:/c%3A/Users/yuuya/OneDrive/%E3%83%87%E3%82%B9%E3%82%AF%E3%83%88%E3%83%83%E3%83%97/inn_price/baseline.ipynb#ch0000014?line=11'>12</a>\u001b[0m roc_auc \u001b[39m=\u001b[39m roc_auc_score(va_y,va_pred)\n",
      "File \u001b[1;32m~\\AppData\\Local\\Programs\\Python\\Python38\\lib\\site-packages\\sklearn\\ensemble\\_forest.py:450\u001b[0m, in \u001b[0;36mBaseForest.fit\u001b[1;34m(self, X, y, sample_weight)\u001b[0m\n\u001b[0;32m    <a href='file:///c%3A/Users/yuuya/AppData/Local/Programs/Python/Python38/lib/site-packages/sklearn/ensemble/_forest.py?line=438'>439</a>\u001b[0m trees \u001b[39m=\u001b[39m [\n\u001b[0;32m    <a href='file:///c%3A/Users/yuuya/AppData/Local/Programs/Python/Python38/lib/site-packages/sklearn/ensemble/_forest.py?line=439'>440</a>\u001b[0m     \u001b[39mself\u001b[39m\u001b[39m.\u001b[39m_make_estimator(append\u001b[39m=\u001b[39m\u001b[39mFalse\u001b[39;00m, random_state\u001b[39m=\u001b[39mrandom_state)\n\u001b[0;32m    <a href='file:///c%3A/Users/yuuya/AppData/Local/Programs/Python/Python38/lib/site-packages/sklearn/ensemble/_forest.py?line=440'>441</a>\u001b[0m     \u001b[39mfor\u001b[39;00m i \u001b[39min\u001b[39;00m \u001b[39mrange\u001b[39m(n_more_estimators)\n\u001b[0;32m    <a href='file:///c%3A/Users/yuuya/AppData/Local/Programs/Python/Python38/lib/site-packages/sklearn/ensemble/_forest.py?line=441'>442</a>\u001b[0m ]\n\u001b[0;32m    <a href='file:///c%3A/Users/yuuya/AppData/Local/Programs/Python/Python38/lib/site-packages/sklearn/ensemble/_forest.py?line=443'>444</a>\u001b[0m \u001b[39m# Parallel loop: we prefer the threading backend as the Cython code\u001b[39;00m\n\u001b[0;32m    <a href='file:///c%3A/Users/yuuya/AppData/Local/Programs/Python/Python38/lib/site-packages/sklearn/ensemble/_forest.py?line=444'>445</a>\u001b[0m \u001b[39m# for fitting the trees is internally releasing the Python GIL\u001b[39;00m\n\u001b[0;32m    <a href='file:///c%3A/Users/yuuya/AppData/Local/Programs/Python/Python38/lib/site-packages/sklearn/ensemble/_forest.py?line=445'>446</a>\u001b[0m \u001b[39m# making threading more efficient than multiprocessing in\u001b[39;00m\n\u001b[0;32m    <a href='file:///c%3A/Users/yuuya/AppData/Local/Programs/Python/Python38/lib/site-packages/sklearn/ensemble/_forest.py?line=446'>447</a>\u001b[0m \u001b[39m# that case. However, for joblib 0.12+ we respect any\u001b[39;00m\n\u001b[0;32m    <a href='file:///c%3A/Users/yuuya/AppData/Local/Programs/Python/Python38/lib/site-packages/sklearn/ensemble/_forest.py?line=447'>448</a>\u001b[0m \u001b[39m# parallel_backend contexts set at a higher level,\u001b[39;00m\n\u001b[0;32m    <a href='file:///c%3A/Users/yuuya/AppData/Local/Programs/Python/Python38/lib/site-packages/sklearn/ensemble/_forest.py?line=448'>449</a>\u001b[0m \u001b[39m# since correctness does not rely on using threads.\u001b[39;00m\n\u001b[1;32m--> <a href='file:///c%3A/Users/yuuya/AppData/Local/Programs/Python/Python38/lib/site-packages/sklearn/ensemble/_forest.py?line=449'>450</a>\u001b[0m trees \u001b[39m=\u001b[39m Parallel(\n\u001b[0;32m    <a href='file:///c%3A/Users/yuuya/AppData/Local/Programs/Python/Python38/lib/site-packages/sklearn/ensemble/_forest.py?line=450'>451</a>\u001b[0m     n_jobs\u001b[39m=\u001b[39;49m\u001b[39mself\u001b[39;49m\u001b[39m.\u001b[39;49mn_jobs,\n\u001b[0;32m    <a href='file:///c%3A/Users/yuuya/AppData/Local/Programs/Python/Python38/lib/site-packages/sklearn/ensemble/_forest.py?line=451'>452</a>\u001b[0m     verbose\u001b[39m=\u001b[39;49m\u001b[39mself\u001b[39;49m\u001b[39m.\u001b[39;49mverbose,\n\u001b[0;32m    <a href='file:///c%3A/Users/yuuya/AppData/Local/Programs/Python/Python38/lib/site-packages/sklearn/ensemble/_forest.py?line=452'>453</a>\u001b[0m     \u001b[39m*\u001b[39;49m\u001b[39m*\u001b[39;49m_joblib_parallel_args(prefer\u001b[39m=\u001b[39;49m\u001b[39m\"\u001b[39;49m\u001b[39mthreads\u001b[39;49m\u001b[39m\"\u001b[39;49m),\n\u001b[0;32m    <a href='file:///c%3A/Users/yuuya/AppData/Local/Programs/Python/Python38/lib/site-packages/sklearn/ensemble/_forest.py?line=453'>454</a>\u001b[0m )(\n\u001b[0;32m    <a href='file:///c%3A/Users/yuuya/AppData/Local/Programs/Python/Python38/lib/site-packages/sklearn/ensemble/_forest.py?line=454'>455</a>\u001b[0m     delayed(_parallel_build_trees)(\n\u001b[0;32m    <a href='file:///c%3A/Users/yuuya/AppData/Local/Programs/Python/Python38/lib/site-packages/sklearn/ensemble/_forest.py?line=455'>456</a>\u001b[0m         t,\n\u001b[0;32m    <a href='file:///c%3A/Users/yuuya/AppData/Local/Programs/Python/Python38/lib/site-packages/sklearn/ensemble/_forest.py?line=456'>457</a>\u001b[0m         \u001b[39mself\u001b[39;49m,\n\u001b[0;32m    <a href='file:///c%3A/Users/yuuya/AppData/Local/Programs/Python/Python38/lib/site-packages/sklearn/ensemble/_forest.py?line=457'>458</a>\u001b[0m         X,\n\u001b[0;32m    <a href='file:///c%3A/Users/yuuya/AppData/Local/Programs/Python/Python38/lib/site-packages/sklearn/ensemble/_forest.py?line=458'>459</a>\u001b[0m         y,\n\u001b[0;32m    <a href='file:///c%3A/Users/yuuya/AppData/Local/Programs/Python/Python38/lib/site-packages/sklearn/ensemble/_forest.py?line=459'>460</a>\u001b[0m         sample_weight,\n\u001b[0;32m    <a href='file:///c%3A/Users/yuuya/AppData/Local/Programs/Python/Python38/lib/site-packages/sklearn/ensemble/_forest.py?line=460'>461</a>\u001b[0m         i,\n\u001b[0;32m    <a href='file:///c%3A/Users/yuuya/AppData/Local/Programs/Python/Python38/lib/site-packages/sklearn/ensemble/_forest.py?line=461'>462</a>\u001b[0m         \u001b[39mlen\u001b[39;49m(trees),\n\u001b[0;32m    <a href='file:///c%3A/Users/yuuya/AppData/Local/Programs/Python/Python38/lib/site-packages/sklearn/ensemble/_forest.py?line=462'>463</a>\u001b[0m         verbose\u001b[39m=\u001b[39;49m\u001b[39mself\u001b[39;49m\u001b[39m.\u001b[39;49mverbose,\n\u001b[0;32m    <a href='file:///c%3A/Users/yuuya/AppData/Local/Programs/Python/Python38/lib/site-packages/sklearn/ensemble/_forest.py?line=463'>464</a>\u001b[0m         class_weight\u001b[39m=\u001b[39;49m\u001b[39mself\u001b[39;49m\u001b[39m.\u001b[39;49mclass_weight,\n\u001b[0;32m    <a href='file:///c%3A/Users/yuuya/AppData/Local/Programs/Python/Python38/lib/site-packages/sklearn/ensemble/_forest.py?line=464'>465</a>\u001b[0m         n_samples_bootstrap\u001b[39m=\u001b[39;49mn_samples_bootstrap,\n\u001b[0;32m    <a href='file:///c%3A/Users/yuuya/AppData/Local/Programs/Python/Python38/lib/site-packages/sklearn/ensemble/_forest.py?line=465'>466</a>\u001b[0m     )\n\u001b[0;32m    <a href='file:///c%3A/Users/yuuya/AppData/Local/Programs/Python/Python38/lib/site-packages/sklearn/ensemble/_forest.py?line=466'>467</a>\u001b[0m     \u001b[39mfor\u001b[39;49;00m i, t \u001b[39min\u001b[39;49;00m \u001b[39menumerate\u001b[39;49m(trees)\n\u001b[0;32m    <a href='file:///c%3A/Users/yuuya/AppData/Local/Programs/Python/Python38/lib/site-packages/sklearn/ensemble/_forest.py?line=467'>468</a>\u001b[0m )\n\u001b[0;32m    <a href='file:///c%3A/Users/yuuya/AppData/Local/Programs/Python/Python38/lib/site-packages/sklearn/ensemble/_forest.py?line=469'>470</a>\u001b[0m \u001b[39m# Collect newly grown trees\u001b[39;00m\n\u001b[0;32m    <a href='file:///c%3A/Users/yuuya/AppData/Local/Programs/Python/Python38/lib/site-packages/sklearn/ensemble/_forest.py?line=470'>471</a>\u001b[0m \u001b[39mself\u001b[39m\u001b[39m.\u001b[39mestimators_\u001b[39m.\u001b[39mextend(trees)\n",
      "File \u001b[1;32m~\\AppData\\Local\\Programs\\Python\\Python38\\lib\\site-packages\\joblib\\parallel.py:1046\u001b[0m, in \u001b[0;36mParallel.__call__\u001b[1;34m(self, iterable)\u001b[0m\n\u001b[0;32m   <a href='file:///c%3A/Users/yuuya/AppData/Local/Programs/Python/Python38/lib/site-packages/joblib/parallel.py?line=1042'>1043</a>\u001b[0m \u001b[39mif\u001b[39;00m \u001b[39mself\u001b[39m\u001b[39m.\u001b[39mdispatch_one_batch(iterator):\n\u001b[0;32m   <a href='file:///c%3A/Users/yuuya/AppData/Local/Programs/Python/Python38/lib/site-packages/joblib/parallel.py?line=1043'>1044</a>\u001b[0m     \u001b[39mself\u001b[39m\u001b[39m.\u001b[39m_iterating \u001b[39m=\u001b[39m \u001b[39mself\u001b[39m\u001b[39m.\u001b[39m_original_iterator \u001b[39mis\u001b[39;00m \u001b[39mnot\u001b[39;00m \u001b[39mNone\u001b[39;00m\n\u001b[1;32m-> <a href='file:///c%3A/Users/yuuya/AppData/Local/Programs/Python/Python38/lib/site-packages/joblib/parallel.py?line=1045'>1046</a>\u001b[0m \u001b[39mwhile\u001b[39;00m \u001b[39mself\u001b[39;49m\u001b[39m.\u001b[39;49mdispatch_one_batch(iterator):\n\u001b[0;32m   <a href='file:///c%3A/Users/yuuya/AppData/Local/Programs/Python/Python38/lib/site-packages/joblib/parallel.py?line=1046'>1047</a>\u001b[0m     \u001b[39mpass\u001b[39;00m\n\u001b[0;32m   <a href='file:///c%3A/Users/yuuya/AppData/Local/Programs/Python/Python38/lib/site-packages/joblib/parallel.py?line=1048'>1049</a>\u001b[0m \u001b[39mif\u001b[39;00m pre_dispatch \u001b[39m==\u001b[39m \u001b[39m\"\u001b[39m\u001b[39mall\u001b[39m\u001b[39m\"\u001b[39m \u001b[39mor\u001b[39;00m n_jobs \u001b[39m==\u001b[39m \u001b[39m1\u001b[39m:\n\u001b[0;32m   <a href='file:///c%3A/Users/yuuya/AppData/Local/Programs/Python/Python38/lib/site-packages/joblib/parallel.py?line=1049'>1050</a>\u001b[0m     \u001b[39m# The iterable was consumed all at once by the above for loop.\u001b[39;00m\n\u001b[0;32m   <a href='file:///c%3A/Users/yuuya/AppData/Local/Programs/Python/Python38/lib/site-packages/joblib/parallel.py?line=1050'>1051</a>\u001b[0m     \u001b[39m# No need to wait for async callbacks to trigger to\u001b[39;00m\n\u001b[0;32m   <a href='file:///c%3A/Users/yuuya/AppData/Local/Programs/Python/Python38/lib/site-packages/joblib/parallel.py?line=1051'>1052</a>\u001b[0m     \u001b[39m# consumption.\u001b[39;00m\n",
      "File \u001b[1;32m~\\AppData\\Local\\Programs\\Python\\Python38\\lib\\site-packages\\joblib\\parallel.py:861\u001b[0m, in \u001b[0;36mParallel.dispatch_one_batch\u001b[1;34m(self, iterator)\u001b[0m\n\u001b[0;32m    <a href='file:///c%3A/Users/yuuya/AppData/Local/Programs/Python/Python38/lib/site-packages/joblib/parallel.py?line=858'>859</a>\u001b[0m     \u001b[39mreturn\u001b[39;00m \u001b[39mFalse\u001b[39;00m\n\u001b[0;32m    <a href='file:///c%3A/Users/yuuya/AppData/Local/Programs/Python/Python38/lib/site-packages/joblib/parallel.py?line=859'>860</a>\u001b[0m \u001b[39melse\u001b[39;00m:\n\u001b[1;32m--> <a href='file:///c%3A/Users/yuuya/AppData/Local/Programs/Python/Python38/lib/site-packages/joblib/parallel.py?line=860'>861</a>\u001b[0m     \u001b[39mself\u001b[39;49m\u001b[39m.\u001b[39;49m_dispatch(tasks)\n\u001b[0;32m    <a href='file:///c%3A/Users/yuuya/AppData/Local/Programs/Python/Python38/lib/site-packages/joblib/parallel.py?line=861'>862</a>\u001b[0m     \u001b[39mreturn\u001b[39;00m \u001b[39mTrue\u001b[39;00m\n",
      "File \u001b[1;32m~\\AppData\\Local\\Programs\\Python\\Python38\\lib\\site-packages\\joblib\\parallel.py:779\u001b[0m, in \u001b[0;36mParallel._dispatch\u001b[1;34m(self, batch)\u001b[0m\n\u001b[0;32m    <a href='file:///c%3A/Users/yuuya/AppData/Local/Programs/Python/Python38/lib/site-packages/joblib/parallel.py?line=776'>777</a>\u001b[0m \u001b[39mwith\u001b[39;00m \u001b[39mself\u001b[39m\u001b[39m.\u001b[39m_lock:\n\u001b[0;32m    <a href='file:///c%3A/Users/yuuya/AppData/Local/Programs/Python/Python38/lib/site-packages/joblib/parallel.py?line=777'>778</a>\u001b[0m     job_idx \u001b[39m=\u001b[39m \u001b[39mlen\u001b[39m(\u001b[39mself\u001b[39m\u001b[39m.\u001b[39m_jobs)\n\u001b[1;32m--> <a href='file:///c%3A/Users/yuuya/AppData/Local/Programs/Python/Python38/lib/site-packages/joblib/parallel.py?line=778'>779</a>\u001b[0m     job \u001b[39m=\u001b[39m \u001b[39mself\u001b[39;49m\u001b[39m.\u001b[39;49m_backend\u001b[39m.\u001b[39;49mapply_async(batch, callback\u001b[39m=\u001b[39;49mcb)\n\u001b[0;32m    <a href='file:///c%3A/Users/yuuya/AppData/Local/Programs/Python/Python38/lib/site-packages/joblib/parallel.py?line=779'>780</a>\u001b[0m     \u001b[39m# A job can complete so quickly than its callback is\u001b[39;00m\n\u001b[0;32m    <a href='file:///c%3A/Users/yuuya/AppData/Local/Programs/Python/Python38/lib/site-packages/joblib/parallel.py?line=780'>781</a>\u001b[0m     \u001b[39m# called before we get here, causing self._jobs to\u001b[39;00m\n\u001b[0;32m    <a href='file:///c%3A/Users/yuuya/AppData/Local/Programs/Python/Python38/lib/site-packages/joblib/parallel.py?line=781'>782</a>\u001b[0m     \u001b[39m# grow. To ensure correct results ordering, .insert is\u001b[39;00m\n\u001b[0;32m    <a href='file:///c%3A/Users/yuuya/AppData/Local/Programs/Python/Python38/lib/site-packages/joblib/parallel.py?line=782'>783</a>\u001b[0m     \u001b[39m# used (rather than .append) in the following line\u001b[39;00m\n\u001b[0;32m    <a href='file:///c%3A/Users/yuuya/AppData/Local/Programs/Python/Python38/lib/site-packages/joblib/parallel.py?line=783'>784</a>\u001b[0m     \u001b[39mself\u001b[39m\u001b[39m.\u001b[39m_jobs\u001b[39m.\u001b[39minsert(job_idx, job)\n",
      "File \u001b[1;32m~\\AppData\\Local\\Programs\\Python\\Python38\\lib\\site-packages\\joblib\\_parallel_backends.py:208\u001b[0m, in \u001b[0;36mSequentialBackend.apply_async\u001b[1;34m(self, func, callback)\u001b[0m\n\u001b[0;32m    <a href='file:///c%3A/Users/yuuya/AppData/Local/Programs/Python/Python38/lib/site-packages/joblib/_parallel_backends.py?line=205'>206</a>\u001b[0m \u001b[39mdef\u001b[39;00m \u001b[39mapply_async\u001b[39m(\u001b[39mself\u001b[39m, func, callback\u001b[39m=\u001b[39m\u001b[39mNone\u001b[39;00m):\n\u001b[0;32m    <a href='file:///c%3A/Users/yuuya/AppData/Local/Programs/Python/Python38/lib/site-packages/joblib/_parallel_backends.py?line=206'>207</a>\u001b[0m     \u001b[39m\"\"\"Schedule a func to be run\"\"\"\u001b[39;00m\n\u001b[1;32m--> <a href='file:///c%3A/Users/yuuya/AppData/Local/Programs/Python/Python38/lib/site-packages/joblib/_parallel_backends.py?line=207'>208</a>\u001b[0m     result \u001b[39m=\u001b[39m ImmediateResult(func)\n\u001b[0;32m    <a href='file:///c%3A/Users/yuuya/AppData/Local/Programs/Python/Python38/lib/site-packages/joblib/_parallel_backends.py?line=208'>209</a>\u001b[0m     \u001b[39mif\u001b[39;00m callback:\n\u001b[0;32m    <a href='file:///c%3A/Users/yuuya/AppData/Local/Programs/Python/Python38/lib/site-packages/joblib/_parallel_backends.py?line=209'>210</a>\u001b[0m         callback(result)\n",
      "File \u001b[1;32m~\\AppData\\Local\\Programs\\Python\\Python38\\lib\\site-packages\\joblib\\_parallel_backends.py:572\u001b[0m, in \u001b[0;36mImmediateResult.__init__\u001b[1;34m(self, batch)\u001b[0m\n\u001b[0;32m    <a href='file:///c%3A/Users/yuuya/AppData/Local/Programs/Python/Python38/lib/site-packages/joblib/_parallel_backends.py?line=568'>569</a>\u001b[0m \u001b[39mdef\u001b[39;00m \u001b[39m__init__\u001b[39m(\u001b[39mself\u001b[39m, batch):\n\u001b[0;32m    <a href='file:///c%3A/Users/yuuya/AppData/Local/Programs/Python/Python38/lib/site-packages/joblib/_parallel_backends.py?line=569'>570</a>\u001b[0m     \u001b[39m# Don't delay the application, to avoid keeping the input\u001b[39;00m\n\u001b[0;32m    <a href='file:///c%3A/Users/yuuya/AppData/Local/Programs/Python/Python38/lib/site-packages/joblib/_parallel_backends.py?line=570'>571</a>\u001b[0m     \u001b[39m# arguments in memory\u001b[39;00m\n\u001b[1;32m--> <a href='file:///c%3A/Users/yuuya/AppData/Local/Programs/Python/Python38/lib/site-packages/joblib/_parallel_backends.py?line=571'>572</a>\u001b[0m     \u001b[39mself\u001b[39m\u001b[39m.\u001b[39mresults \u001b[39m=\u001b[39m batch()\n",
      "File \u001b[1;32m~\\AppData\\Local\\Programs\\Python\\Python38\\lib\\site-packages\\joblib\\parallel.py:262\u001b[0m, in \u001b[0;36mBatchedCalls.__call__\u001b[1;34m(self)\u001b[0m\n\u001b[0;32m    <a href='file:///c%3A/Users/yuuya/AppData/Local/Programs/Python/Python38/lib/site-packages/joblib/parallel.py?line=257'>258</a>\u001b[0m \u001b[39mdef\u001b[39;00m \u001b[39m__call__\u001b[39m(\u001b[39mself\u001b[39m):\n\u001b[0;32m    <a href='file:///c%3A/Users/yuuya/AppData/Local/Programs/Python/Python38/lib/site-packages/joblib/parallel.py?line=258'>259</a>\u001b[0m     \u001b[39m# Set the default nested backend to self._backend but do not set the\u001b[39;00m\n\u001b[0;32m    <a href='file:///c%3A/Users/yuuya/AppData/Local/Programs/Python/Python38/lib/site-packages/joblib/parallel.py?line=259'>260</a>\u001b[0m     \u001b[39m# change the default number of processes to -1\u001b[39;00m\n\u001b[0;32m    <a href='file:///c%3A/Users/yuuya/AppData/Local/Programs/Python/Python38/lib/site-packages/joblib/parallel.py?line=260'>261</a>\u001b[0m     \u001b[39mwith\u001b[39;00m parallel_backend(\u001b[39mself\u001b[39m\u001b[39m.\u001b[39m_backend, n_jobs\u001b[39m=\u001b[39m\u001b[39mself\u001b[39m\u001b[39m.\u001b[39m_n_jobs):\n\u001b[1;32m--> <a href='file:///c%3A/Users/yuuya/AppData/Local/Programs/Python/Python38/lib/site-packages/joblib/parallel.py?line=261'>262</a>\u001b[0m         \u001b[39mreturn\u001b[39;00m [func(\u001b[39m*\u001b[39margs, \u001b[39m*\u001b[39m\u001b[39m*\u001b[39mkwargs)\n\u001b[0;32m    <a href='file:///c%3A/Users/yuuya/AppData/Local/Programs/Python/Python38/lib/site-packages/joblib/parallel.py?line=262'>263</a>\u001b[0m                 \u001b[39mfor\u001b[39;00m func, args, kwargs \u001b[39min\u001b[39;00m \u001b[39mself\u001b[39m\u001b[39m.\u001b[39mitems]\n",
      "File \u001b[1;32m~\\AppData\\Local\\Programs\\Python\\Python38\\lib\\site-packages\\joblib\\parallel.py:262\u001b[0m, in \u001b[0;36m<listcomp>\u001b[1;34m(.0)\u001b[0m\n\u001b[0;32m    <a href='file:///c%3A/Users/yuuya/AppData/Local/Programs/Python/Python38/lib/site-packages/joblib/parallel.py?line=257'>258</a>\u001b[0m \u001b[39mdef\u001b[39;00m \u001b[39m__call__\u001b[39m(\u001b[39mself\u001b[39m):\n\u001b[0;32m    <a href='file:///c%3A/Users/yuuya/AppData/Local/Programs/Python/Python38/lib/site-packages/joblib/parallel.py?line=258'>259</a>\u001b[0m     \u001b[39m# Set the default nested backend to self._backend but do not set the\u001b[39;00m\n\u001b[0;32m    <a href='file:///c%3A/Users/yuuya/AppData/Local/Programs/Python/Python38/lib/site-packages/joblib/parallel.py?line=259'>260</a>\u001b[0m     \u001b[39m# change the default number of processes to -1\u001b[39;00m\n\u001b[0;32m    <a href='file:///c%3A/Users/yuuya/AppData/Local/Programs/Python/Python38/lib/site-packages/joblib/parallel.py?line=260'>261</a>\u001b[0m     \u001b[39mwith\u001b[39;00m parallel_backend(\u001b[39mself\u001b[39m\u001b[39m.\u001b[39m_backend, n_jobs\u001b[39m=\u001b[39m\u001b[39mself\u001b[39m\u001b[39m.\u001b[39m_n_jobs):\n\u001b[1;32m--> <a href='file:///c%3A/Users/yuuya/AppData/Local/Programs/Python/Python38/lib/site-packages/joblib/parallel.py?line=261'>262</a>\u001b[0m         \u001b[39mreturn\u001b[39;00m [func(\u001b[39m*\u001b[39;49margs, \u001b[39m*\u001b[39;49m\u001b[39m*\u001b[39;49mkwargs)\n\u001b[0;32m    <a href='file:///c%3A/Users/yuuya/AppData/Local/Programs/Python/Python38/lib/site-packages/joblib/parallel.py?line=262'>263</a>\u001b[0m                 \u001b[39mfor\u001b[39;00m func, args, kwargs \u001b[39min\u001b[39;00m \u001b[39mself\u001b[39m\u001b[39m.\u001b[39mitems]\n",
      "File \u001b[1;32m~\\AppData\\Local\\Programs\\Python\\Python38\\lib\\site-packages\\sklearn\\utils\\fixes.py:216\u001b[0m, in \u001b[0;36m_FuncWrapper.__call__\u001b[1;34m(self, *args, **kwargs)\u001b[0m\n\u001b[0;32m    <a href='file:///c%3A/Users/yuuya/AppData/Local/Programs/Python/Python38/lib/site-packages/sklearn/utils/fixes.py?line=213'>214</a>\u001b[0m \u001b[39mdef\u001b[39;00m \u001b[39m__call__\u001b[39m(\u001b[39mself\u001b[39m, \u001b[39m*\u001b[39margs, \u001b[39m*\u001b[39m\u001b[39m*\u001b[39mkwargs):\n\u001b[0;32m    <a href='file:///c%3A/Users/yuuya/AppData/Local/Programs/Python/Python38/lib/site-packages/sklearn/utils/fixes.py?line=214'>215</a>\u001b[0m     \u001b[39mwith\u001b[39;00m config_context(\u001b[39m*\u001b[39m\u001b[39m*\u001b[39m\u001b[39mself\u001b[39m\u001b[39m.\u001b[39mconfig):\n\u001b[1;32m--> <a href='file:///c%3A/Users/yuuya/AppData/Local/Programs/Python/Python38/lib/site-packages/sklearn/utils/fixes.py?line=215'>216</a>\u001b[0m         \u001b[39mreturn\u001b[39;00m \u001b[39mself\u001b[39;49m\u001b[39m.\u001b[39;49mfunction(\u001b[39m*\u001b[39;49margs, \u001b[39m*\u001b[39;49m\u001b[39m*\u001b[39;49mkwargs)\n",
      "File \u001b[1;32m~\\AppData\\Local\\Programs\\Python\\Python38\\lib\\site-packages\\sklearn\\ensemble\\_forest.py:185\u001b[0m, in \u001b[0;36m_parallel_build_trees\u001b[1;34m(tree, forest, X, y, sample_weight, tree_idx, n_trees, verbose, class_weight, n_samples_bootstrap)\u001b[0m\n\u001b[0;32m    <a href='file:///c%3A/Users/yuuya/AppData/Local/Programs/Python/Python38/lib/site-packages/sklearn/ensemble/_forest.py?line=181'>182</a>\u001b[0m     \u001b[39melif\u001b[39;00m class_weight \u001b[39m==\u001b[39m \u001b[39m\"\u001b[39m\u001b[39mbalanced_subsample\u001b[39m\u001b[39m\"\u001b[39m:\n\u001b[0;32m    <a href='file:///c%3A/Users/yuuya/AppData/Local/Programs/Python/Python38/lib/site-packages/sklearn/ensemble/_forest.py?line=182'>183</a>\u001b[0m         curr_sample_weight \u001b[39m*\u001b[39m\u001b[39m=\u001b[39m compute_sample_weight(\u001b[39m\"\u001b[39m\u001b[39mbalanced\u001b[39m\u001b[39m\"\u001b[39m, y, indices\u001b[39m=\u001b[39mindices)\n\u001b[1;32m--> <a href='file:///c%3A/Users/yuuya/AppData/Local/Programs/Python/Python38/lib/site-packages/sklearn/ensemble/_forest.py?line=184'>185</a>\u001b[0m     tree\u001b[39m.\u001b[39;49mfit(X, y, sample_weight\u001b[39m=\u001b[39;49mcurr_sample_weight, check_input\u001b[39m=\u001b[39;49m\u001b[39mFalse\u001b[39;49;00m)\n\u001b[0;32m    <a href='file:///c%3A/Users/yuuya/AppData/Local/Programs/Python/Python38/lib/site-packages/sklearn/ensemble/_forest.py?line=185'>186</a>\u001b[0m \u001b[39melse\u001b[39;00m:\n\u001b[0;32m    <a href='file:///c%3A/Users/yuuya/AppData/Local/Programs/Python/Python38/lib/site-packages/sklearn/ensemble/_forest.py?line=186'>187</a>\u001b[0m     tree\u001b[39m.\u001b[39mfit(X, y, sample_weight\u001b[39m=\u001b[39msample_weight, check_input\u001b[39m=\u001b[39m\u001b[39mFalse\u001b[39;00m)\n",
      "File \u001b[1;32m~\\AppData\\Local\\Programs\\Python\\Python38\\lib\\site-packages\\sklearn\\tree\\_classes.py:1315\u001b[0m, in \u001b[0;36mDecisionTreeRegressor.fit\u001b[1;34m(self, X, y, sample_weight, check_input, X_idx_sorted)\u001b[0m\n\u001b[0;32m   <a href='file:///c%3A/Users/yuuya/AppData/Local/Programs/Python/Python38/lib/site-packages/sklearn/tree/_classes.py?line=1277'>1278</a>\u001b[0m \u001b[39mdef\u001b[39;00m \u001b[39mfit\u001b[39m(\n\u001b[0;32m   <a href='file:///c%3A/Users/yuuya/AppData/Local/Programs/Python/Python38/lib/site-packages/sklearn/tree/_classes.py?line=1278'>1279</a>\u001b[0m     \u001b[39mself\u001b[39m, X, y, sample_weight\u001b[39m=\u001b[39m\u001b[39mNone\u001b[39;00m, check_input\u001b[39m=\u001b[39m\u001b[39mTrue\u001b[39;00m, X_idx_sorted\u001b[39m=\u001b[39m\u001b[39m\"\u001b[39m\u001b[39mdeprecated\u001b[39m\u001b[39m\"\u001b[39m\n\u001b[0;32m   <a href='file:///c%3A/Users/yuuya/AppData/Local/Programs/Python/Python38/lib/site-packages/sklearn/tree/_classes.py?line=1279'>1280</a>\u001b[0m ):\n\u001b[0;32m   <a href='file:///c%3A/Users/yuuya/AppData/Local/Programs/Python/Python38/lib/site-packages/sklearn/tree/_classes.py?line=1280'>1281</a>\u001b[0m     \u001b[39m\"\"\"Build a decision tree regressor from the training set (X, y).\u001b[39;00m\n\u001b[0;32m   <a href='file:///c%3A/Users/yuuya/AppData/Local/Programs/Python/Python38/lib/site-packages/sklearn/tree/_classes.py?line=1281'>1282</a>\u001b[0m \n\u001b[0;32m   <a href='file:///c%3A/Users/yuuya/AppData/Local/Programs/Python/Python38/lib/site-packages/sklearn/tree/_classes.py?line=1282'>1283</a>\u001b[0m \u001b[39m    Parameters\u001b[39;00m\n\u001b[1;32m   (...)\u001b[0m\n\u001b[0;32m   <a href='file:///c%3A/Users/yuuya/AppData/Local/Programs/Python/Python38/lib/site-packages/sklearn/tree/_classes.py?line=1311'>1312</a>\u001b[0m \u001b[39m        Fitted estimator.\u001b[39;00m\n\u001b[0;32m   <a href='file:///c%3A/Users/yuuya/AppData/Local/Programs/Python/Python38/lib/site-packages/sklearn/tree/_classes.py?line=1312'>1313</a>\u001b[0m \u001b[39m    \"\"\"\u001b[39;00m\n\u001b[1;32m-> <a href='file:///c%3A/Users/yuuya/AppData/Local/Programs/Python/Python38/lib/site-packages/sklearn/tree/_classes.py?line=1314'>1315</a>\u001b[0m     \u001b[39msuper\u001b[39;49m()\u001b[39m.\u001b[39;49mfit(\n\u001b[0;32m   <a href='file:///c%3A/Users/yuuya/AppData/Local/Programs/Python/Python38/lib/site-packages/sklearn/tree/_classes.py?line=1315'>1316</a>\u001b[0m         X,\n\u001b[0;32m   <a href='file:///c%3A/Users/yuuya/AppData/Local/Programs/Python/Python38/lib/site-packages/sklearn/tree/_classes.py?line=1316'>1317</a>\u001b[0m         y,\n\u001b[0;32m   <a href='file:///c%3A/Users/yuuya/AppData/Local/Programs/Python/Python38/lib/site-packages/sklearn/tree/_classes.py?line=1317'>1318</a>\u001b[0m         sample_weight\u001b[39m=\u001b[39;49msample_weight,\n\u001b[0;32m   <a href='file:///c%3A/Users/yuuya/AppData/Local/Programs/Python/Python38/lib/site-packages/sklearn/tree/_classes.py?line=1318'>1319</a>\u001b[0m         check_input\u001b[39m=\u001b[39;49mcheck_input,\n\u001b[0;32m   <a href='file:///c%3A/Users/yuuya/AppData/Local/Programs/Python/Python38/lib/site-packages/sklearn/tree/_classes.py?line=1319'>1320</a>\u001b[0m         X_idx_sorted\u001b[39m=\u001b[39;49mX_idx_sorted,\n\u001b[0;32m   <a href='file:///c%3A/Users/yuuya/AppData/Local/Programs/Python/Python38/lib/site-packages/sklearn/tree/_classes.py?line=1320'>1321</a>\u001b[0m     )\n\u001b[0;32m   <a href='file:///c%3A/Users/yuuya/AppData/Local/Programs/Python/Python38/lib/site-packages/sklearn/tree/_classes.py?line=1321'>1322</a>\u001b[0m     \u001b[39mreturn\u001b[39;00m \u001b[39mself\u001b[39m\n",
      "File \u001b[1;32m~\\AppData\\Local\\Programs\\Python\\Python38\\lib\\site-packages\\sklearn\\tree\\_classes.py:420\u001b[0m, in \u001b[0;36mBaseDecisionTree.fit\u001b[1;34m(self, X, y, sample_weight, check_input, X_idx_sorted)\u001b[0m\n\u001b[0;32m    <a href='file:///c%3A/Users/yuuya/AppData/Local/Programs/Python/Python38/lib/site-packages/sklearn/tree/_classes.py?line=408'>409</a>\u001b[0m \u001b[39melse\u001b[39;00m:\n\u001b[0;32m    <a href='file:///c%3A/Users/yuuya/AppData/Local/Programs/Python/Python38/lib/site-packages/sklearn/tree/_classes.py?line=409'>410</a>\u001b[0m     builder \u001b[39m=\u001b[39m BestFirstTreeBuilder(\n\u001b[0;32m    <a href='file:///c%3A/Users/yuuya/AppData/Local/Programs/Python/Python38/lib/site-packages/sklearn/tree/_classes.py?line=410'>411</a>\u001b[0m         splitter,\n\u001b[0;32m    <a href='file:///c%3A/Users/yuuya/AppData/Local/Programs/Python/Python38/lib/site-packages/sklearn/tree/_classes.py?line=411'>412</a>\u001b[0m         min_samples_split,\n\u001b[1;32m   (...)\u001b[0m\n\u001b[0;32m    <a href='file:///c%3A/Users/yuuya/AppData/Local/Programs/Python/Python38/lib/site-packages/sklearn/tree/_classes.py?line=416'>417</a>\u001b[0m         \u001b[39mself\u001b[39m\u001b[39m.\u001b[39mmin_impurity_decrease,\n\u001b[0;32m    <a href='file:///c%3A/Users/yuuya/AppData/Local/Programs/Python/Python38/lib/site-packages/sklearn/tree/_classes.py?line=417'>418</a>\u001b[0m     )\n\u001b[1;32m--> <a href='file:///c%3A/Users/yuuya/AppData/Local/Programs/Python/Python38/lib/site-packages/sklearn/tree/_classes.py?line=419'>420</a>\u001b[0m builder\u001b[39m.\u001b[39;49mbuild(\u001b[39mself\u001b[39;49m\u001b[39m.\u001b[39;49mtree_, X, y, sample_weight)\n\u001b[0;32m    <a href='file:///c%3A/Users/yuuya/AppData/Local/Programs/Python/Python38/lib/site-packages/sklearn/tree/_classes.py?line=421'>422</a>\u001b[0m \u001b[39mif\u001b[39;00m \u001b[39mself\u001b[39m\u001b[39m.\u001b[39mn_outputs_ \u001b[39m==\u001b[39m \u001b[39m1\u001b[39m \u001b[39mand\u001b[39;00m is_classifier(\u001b[39mself\u001b[39m):\n\u001b[0;32m    <a href='file:///c%3A/Users/yuuya/AppData/Local/Programs/Python/Python38/lib/site-packages/sklearn/tree/_classes.py?line=422'>423</a>\u001b[0m     \u001b[39mself\u001b[39m\u001b[39m.\u001b[39mn_classes_ \u001b[39m=\u001b[39m \u001b[39mself\u001b[39m\u001b[39m.\u001b[39mn_classes_[\u001b[39m0\u001b[39m]\n",
      "\u001b[1;31mKeyboardInterrupt\u001b[0m: "
     ]
    }
   ],
   "source": [
    "for column in all_data.drop(\"label\",axis=1).select_dtypes(exclude=\"object\").columns:\n",
    "    X_all = all_data.drop([\"label\",column],axis=1).select_dtypes(exclude=\"object\")\n",
    "    y_all = all_data[\"label\"]\n",
    "    X_train_adv, X_valid_adv, y_train_adv, y_valid_adv = train_test_split(X_all, y_all, test_size=0.33, random_state=42, shuffle=True)\n",
    "    scores = []\n",
    "    kf = KFold(n_splits=5, shuffle=True, random_state=1)\n",
    "    for tr_idx, va_idx in kf.split(X_all):\n",
    "        tr_x, va_x = X_all.iloc[tr_idx], X_all.iloc[va_idx]\n",
    "        tr_y, va_y = y_all.iloc[tr_idx], y_all.iloc[va_idx]\n",
    "        model.fit(tr_x, tr_y)\n",
    "        va_pred = model.predict(va_x)\n",
    "        roc_auc = roc_auc_score(va_y,va_pred)\n",
    "        scores.append(roc_auc)\n",
    "    # クロスバリデーションの平均のスコアを出力する\n",
    "    if current_roc_auc_score - 0.01 > np.mean(scores):\n",
    "        print(\"{0}:\".format(column),np.mean(scores))"
   ]
  },
  {
   "cell_type": "markdown",
   "id": "12d771c9",
   "metadata": {},
   "source": [
    "# 駅情報等を追加し、モデル作成"
   ]
  },
  {
   "cell_type": "code",
   "execution_count": 12,
   "id": "d8ed2253",
   "metadata": {},
   "outputs": [],
   "source": [
    "total_data = pd.concat([train,test],axis=0)\n",
    "total_data[\"near_station\"] = distance[\"near_station\"]\n",
    "total_data[\"dist_from_sta\"] = distance[\"dist_from_sta\"]\n",
    "total_data = pd.get_dummies(total_data,columns=one_hot_list)\n",
    "train,test = total_data[:train.shape[0]],total_data[train.shape[0]:].drop(\"y\",axis=1)"
   ]
  },
  {
   "cell_type": "code",
   "execution_count": 13,
   "id": "5e4a9645",
   "metadata": {},
   "outputs": [
    {
     "data": {
      "text/plain": [
       "Index(['name', 'minimum_nights', 'number_of_reviews', 'last_review',\n",
       "       'reviews_per_month', 'availability_365', 'y', '180_over',\n",
       "       'near_station', 'dist_from_sta', 'room_type_Entire home/apt',\n",
       "       'room_type_Hotel room', 'room_type_Private room',\n",
       "       'room_type_Shared room', 'neighbourhood_Adachi Ku',\n",
       "       'neighbourhood_Arakawa Ku', 'neighbourhood_Bunkyo Ku',\n",
       "       'neighbourhood_Chiyoda Ku', 'neighbourhood_Chuo Ku',\n",
       "       'neighbourhood_Edogawa Ku', 'neighbourhood_Itabashi Ku',\n",
       "       'neighbourhood_Katsushika Ku', 'neighbourhood_Kita Ku',\n",
       "       'neighbourhood_Koto Ku', 'neighbourhood_Meguro Ku',\n",
       "       'neighbourhood_Minato Ku', 'neighbourhood_Nakano Ku',\n",
       "       'neighbourhood_Nerima Ku', 'neighbourhood_Ota Ku',\n",
       "       'neighbourhood_Setagaya Ku', 'neighbourhood_Shibuya Ku',\n",
       "       'neighbourhood_Shinagawa Ku', 'neighbourhood_Shinjuku Ku',\n",
       "       'neighbourhood_Suginami Ku', 'neighbourhood_Sumida Ku',\n",
       "       'neighbourhood_Taito Ku', 'neighbourhood_Toshima Ku'],\n",
       "      dtype='object')"
      ]
     },
     "execution_count": 13,
     "metadata": {},
     "output_type": "execute_result"
    }
   ],
   "source": [
    "train.columns"
   ]
  },
  {
   "cell_type": "code",
   "execution_count": 14,
   "id": "258dc2b6",
   "metadata": {},
   "outputs": [],
   "source": [
    "int_columns = train.select_dtypes(exclude=\"object\").columns\n",
    "#yを対数化\n",
    "X_train,y_train = train[int_columns].drop([\"y\"],axis=1),train[\"y\"]\n",
    "X_test = test.select_dtypes(exclude=\"object\")"
   ]
  },
  {
   "cell_type": "code",
   "execution_count": 15,
   "id": "b148a366",
   "metadata": {},
   "outputs": [
    {
     "data": {
      "text/plain": [
       "Index(['minimum_nights', 'number_of_reviews', 'reviews_per_month',\n",
       "       'availability_365', '180_over', 'dist_from_sta',\n",
       "       'room_type_Entire home/apt', 'room_type_Hotel room',\n",
       "       'room_type_Private room', 'room_type_Shared room',\n",
       "       'neighbourhood_Adachi Ku', 'neighbourhood_Arakawa Ku',\n",
       "       'neighbourhood_Bunkyo Ku', 'neighbourhood_Chiyoda Ku',\n",
       "       'neighbourhood_Chuo Ku', 'neighbourhood_Edogawa Ku',\n",
       "       'neighbourhood_Itabashi Ku', 'neighbourhood_Katsushika Ku',\n",
       "       'neighbourhood_Kita Ku', 'neighbourhood_Koto Ku',\n",
       "       'neighbourhood_Meguro Ku', 'neighbourhood_Minato Ku',\n",
       "       'neighbourhood_Nakano Ku', 'neighbourhood_Nerima Ku',\n",
       "       'neighbourhood_Ota Ku', 'neighbourhood_Setagaya Ku',\n",
       "       'neighbourhood_Shibuya Ku', 'neighbourhood_Shinagawa Ku',\n",
       "       'neighbourhood_Shinjuku Ku', 'neighbourhood_Suginami Ku',\n",
       "       'neighbourhood_Sumida Ku', 'neighbourhood_Taito Ku',\n",
       "       'neighbourhood_Toshima Ku'],\n",
       "      dtype='object')"
      ]
     },
     "execution_count": 15,
     "metadata": {},
     "output_type": "execute_result"
    }
   ],
   "source": [
    "X_train.columns"
   ]
  },
  {
   "cell_type": "code",
   "execution_count": 16,
   "id": "e550cbe0",
   "metadata": {},
   "outputs": [
    {
     "name": "stdout",
     "output_type": "stream",
     "text": [
      "0.7249437197716418\n",
      "0.6987048742063697\n",
      "0.6706906917559333\n",
      "0.6739947097645538\n",
      "0.7117998688497065\n",
      "RMSLE: 0.6960\n"
     ]
    }
   ],
   "source": [
    "#定義したX_train,y_trainを入れる\n",
    "scores = []\n",
    "kf = KFold(n_splits=5, shuffle=True, random_state=1)\n",
    "for tr_idx, va_idx in kf.split(X_train):\n",
    "    tr_x, va_x = X_train.iloc[tr_idx], X_train.iloc[va_idx]\n",
    "    tr_y, va_y = y_train.iloc[tr_idx], y_train.iloc[va_idx]\n",
    "    model.fit(tr_x, np.log1p(tr_y))\n",
    "    va_pred = np.expm1(model.predict(va_x))\n",
    "    rmsle = np.sqrt(mean_squared_error(np.log1p(va_y), np.log1p(va_pred)))\n",
    "    scores.append(rmsle)\n",
    "    print(rmsle)\n",
    "\n",
    "# クロスバリデーションの平均のスコアを出力する\n",
    "print(f'RMSLE: {np.mean(scores):.4f}')"
   ]
  },
  {
   "cell_type": "code",
   "execution_count": 17,
   "id": "20ebbd98",
   "metadata": {},
   "outputs": [],
   "source": [
    "model = RFR()\n",
    "model.fit(X_train,np.log1p(y_train))\n",
    "pred = np.expm1(model.predict(X_test))"
   ]
  },
  {
   "cell_type": "code",
   "execution_count": 18,
   "id": "e71772c9",
   "metadata": {},
   "outputs": [
    {
     "data": {
      "text/html": [
       "<div>\n",
       "<style scoped>\n",
       "    .dataframe tbody tr th:only-of-type {\n",
       "        vertical-align: middle;\n",
       "    }\n",
       "\n",
       "    .dataframe tbody tr th {\n",
       "        vertical-align: top;\n",
       "    }\n",
       "\n",
       "    .dataframe thead th {\n",
       "        text-align: right;\n",
       "    }\n",
       "</style>\n",
       "<table border=\"1\" class=\"dataframe\">\n",
       "  <thead>\n",
       "    <tr style=\"text-align: right;\">\n",
       "      <th></th>\n",
       "      <th>id</th>\n",
       "      <th>y</th>\n",
       "    </tr>\n",
       "  </thead>\n",
       "  <tbody>\n",
       "    <tr>\n",
       "      <th>0</th>\n",
       "      <td>1</td>\n",
       "      <td>15180.149493</td>\n",
       "    </tr>\n",
       "    <tr>\n",
       "      <th>1</th>\n",
       "      <td>2</td>\n",
       "      <td>12124.621287</td>\n",
       "    </tr>\n",
       "    <tr>\n",
       "      <th>2</th>\n",
       "      <td>3</td>\n",
       "      <td>18437.061251</td>\n",
       "    </tr>\n",
       "    <tr>\n",
       "      <th>3</th>\n",
       "      <td>4</td>\n",
       "      <td>16720.485013</td>\n",
       "    </tr>\n",
       "    <tr>\n",
       "      <th>4</th>\n",
       "      <td>5</td>\n",
       "      <td>12674.078856</td>\n",
       "    </tr>\n",
       "    <tr>\n",
       "      <th>...</th>\n",
       "      <td>...</td>\n",
       "      <td>...</td>\n",
       "    </tr>\n",
       "    <tr>\n",
       "      <th>4991</th>\n",
       "      <td>4992</td>\n",
       "      <td>22668.118245</td>\n",
       "    </tr>\n",
       "    <tr>\n",
       "      <th>4992</th>\n",
       "      <td>4993</td>\n",
       "      <td>4548.498286</td>\n",
       "    </tr>\n",
       "    <tr>\n",
       "      <th>4993</th>\n",
       "      <td>4994</td>\n",
       "      <td>11053.226268</td>\n",
       "    </tr>\n",
       "    <tr>\n",
       "      <th>4994</th>\n",
       "      <td>4995</td>\n",
       "      <td>4423.083663</td>\n",
       "    </tr>\n",
       "    <tr>\n",
       "      <th>4995</th>\n",
       "      <td>4996</td>\n",
       "      <td>9271.759474</td>\n",
       "    </tr>\n",
       "  </tbody>\n",
       "</table>\n",
       "<p>4996 rows × 2 columns</p>\n",
       "</div>"
      ],
      "text/plain": [
       "        id             y\n",
       "0        1  15180.149493\n",
       "1        2  12124.621287\n",
       "2        3  18437.061251\n",
       "3        4  16720.485013\n",
       "4        5  12674.078856\n",
       "...    ...           ...\n",
       "4991  4992  22668.118245\n",
       "4992  4993   4548.498286\n",
       "4993  4994  11053.226268\n",
       "4994  4995   4423.083663\n",
       "4995  4996   9271.759474\n",
       "\n",
       "[4996 rows x 2 columns]"
      ]
     },
     "execution_count": 18,
     "metadata": {},
     "output_type": "execute_result"
    }
   ],
   "source": [
    "submission = pd.DataFrame({\"id\":id,\"y\":pred})\n",
    "submission"
   ]
  },
  {
   "cell_type": "code",
   "execution_count": 19,
   "id": "57c4db72",
   "metadata": {},
   "outputs": [],
   "source": [
    "submission.to_csv(\"submission.csv\",index=False)"
   ]
  },
  {
   "cell_type": "code",
   "execution_count": null,
   "id": "a9c0e5d3",
   "metadata": {},
   "outputs": [],
   "source": []
  },
  {
   "cell_type": "code",
   "execution_count": null,
   "id": "0b93d27d",
   "metadata": {},
   "outputs": [],
   "source": []
  }
 ],
 "metadata": {
  "kernelspec": {
   "display_name": "Python 3 (ipykernel)",
   "language": "python",
   "name": "python3"
  },
  "language_info": {
   "codemirror_mode": {
    "name": "ipython",
    "version": 3
   },
   "file_extension": ".py",
   "mimetype": "text/x-python",
   "name": "python",
   "nbconvert_exporter": "python",
   "pygments_lexer": "ipython3",
   "version": "3.8.10"
  }
 },
 "nbformat": 4,
 "nbformat_minor": 5
}
