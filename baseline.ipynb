{
 "cells": [
  {
   "cell_type": "code",
   "execution_count": 1,
   "id": "c4db3f2d",
   "metadata": {},
   "outputs": [],
   "source": [
    "import pandas as pd\n",
    "import seaborn as sns\n",
    "from sklearn.ensemble import RandomForestRegressor as RFR\n",
    "from sklearn.metrics import mean_squared_error\n",
    "from sklearn.model_selection import KFold\n",
    "import numpy as np\n",
    "from sklearn.model_selection import train_test_split\n",
    "import matplotlib.pyplot as plt\n",
    "from sklearn.metrics import roc_auc_score"
   ]
  },
  {
   "cell_type": "code",
   "execution_count": 2,
   "id": "361d249a",
   "metadata": {},
   "outputs": [],
   "source": [
    "train = pd.read_csv(\"train_data.csv\")\n",
    "test = pd.read_csv(\"test_data.csv\")\n",
    "staions = pd.read_csv(\"station_list.csv\")"
   ]
  },
  {
   "cell_type": "code",
   "execution_count": 3,
   "id": "9168222f",
   "metadata": {},
   "outputs": [],
   "source": [
    "#欠損値削除\n",
    "train[\"reviews_per_month\"] = train[\"reviews_per_month\"].fillna(0)\n",
    "train[\"last_review\"] = train[\"last_review\"].fillna(\"1900-01-01\")\n",
    "test[\"reviews_per_month\"] = test[\"reviews_per_month\"].fillna(0)\n",
    "test[\"last_review\"] = test[\"last_review\"].fillna(\"1900-01-01\")"
   ]
  },
  {
   "cell_type": "code",
   "execution_count": 4,
   "id": "47b10564",
   "metadata": {},
   "outputs": [],
   "source": [
    "#adversarial validationのためのラベル付け\n",
    "train[\"label\"] = 1\n",
    "test[\"label\"] = 0\n",
    "all_data = pd.concat([train,test],axis=0)\n",
    "train.drop(\"label\",axis=1,inplace=True)\n",
    "test.drop(\"label\",axis=1,inplace=True)"
   ]
  },
  {
   "cell_type": "code",
   "execution_count": 5,
   "id": "5ed68887",
   "metadata": {},
   "outputs": [],
   "source": [
    "id = test[\"id\"]\n",
    "drop_list = [\"id\",\"host_id\",\"latitude\",\"longitude\"]\n",
    "train.drop(drop_list,axis=1,inplace=True)\n",
    "test.drop(drop_list,axis=1,inplace=True)\n",
    "all_data.drop([\"y\",\"id\",\"host_id\",\"latitude\",\"longitude\"],axis=1,inplace=True)"
   ]
  },
  {
   "cell_type": "code",
   "execution_count": 6,
   "id": "5498817e",
   "metadata": {},
   "outputs": [
    {
     "data": {
      "text/plain": [
       "Index(['name', 'neighbourhood', 'room_type', 'minimum_nights',\n",
       "       'number_of_reviews', 'last_review', 'reviews_per_month',\n",
       "       'availability_365', 'label'],\n",
       "      dtype='object')"
      ]
     },
     "execution_count": 6,
     "metadata": {},
     "output_type": "execute_result"
    }
   ],
   "source": [
    "all_data.columns"
   ]
  },
  {
   "cell_type": "code",
   "execution_count": 7,
   "id": "c1ddd96f",
   "metadata": {},
   "outputs": [],
   "source": [
    "all_data = pd.get_dummies(all_data,columns=[\"room_type\"])"
   ]
  },
  {
   "cell_type": "code",
   "execution_count": 8,
   "id": "e004411a",
   "metadata": {},
   "outputs": [
    {
     "name": "stdout",
     "output_type": "stream",
     "text": [
      "0.6654883142848217\n"
     ]
    }
   ],
   "source": [
    "X_all = all_data.drop([\"label\"],axis=1).select_dtypes(exclude=\"object\")\n",
    "y_all = all_data[\"label\"]\n",
    "X_train_adv, X_valid_adv, y_train_adv, y_valid_adv = train_test_split(X_all, y_all, test_size=0.33, random_state=42, shuffle=True)\n",
    "model = RFR()\n",
    "model.fit(X_train_adv, y_train_adv)\n",
    "y_pred = model.predict(X_valid_adv)\n",
    "print(roc_auc_score(y_valid_adv,y_pred))"
   ]
  },
  {
   "cell_type": "code",
   "execution_count": 9,
   "id": "0ff76830",
   "metadata": {},
   "outputs": [
    {
     "name": "stdout",
     "output_type": "stream",
     "text": [
      "minimum_nights: 0.627546743604505\n",
      "number_of_reviews: 0.6296911887431552\n",
      "reviews_per_month: 0.6359016654989134\n",
      "availability_365: 0.5926314763823745\n",
      "room_type_Entire home/apt: 0.6648487461899257\n",
      "room_type_Hotel room: 0.6659502090799145\n",
      "room_type_Private room: 0.6626425663202085\n",
      "room_type_Shared room: 0.6641493028438141\n"
     ]
    }
   ],
   "source": [
    "for column in all_data.drop(\"label\",axis=1).select_dtypes(exclude=\"object\").columns:\n",
    "    X_all = all_data.drop([\"label\",column],axis=1).select_dtypes(exclude=\"object\")\n",
    "    y_all = all_data[\"label\"]\n",
    "    X_train_adv, X_valid_adv, y_train_adv, y_valid_adv = train_test_split(X_all, y_all, test_size=0.33, random_state=42, shuffle=True)\n",
    "    model = RFR()\n",
    "    model.fit(X_train_adv, y_train_adv)\n",
    "    y_pred = model.predict(X_valid_adv)\n",
    "    print(\"{0}:\".format(column),roc_auc_score(y_valid_adv,y_pred))"
   ]
  },
  {
   "cell_type": "code",
   "execution_count": 10,
   "id": "dcc89a69",
   "metadata": {},
   "outputs": [],
   "source": [
    "#all_data.groupby(\"host_id\").mean()"
   ]
  },
  {
   "cell_type": "code",
   "execution_count": 11,
   "id": "14a106cc",
   "metadata": {},
   "outputs": [],
   "source": [
    "#one-hot-encoding\n",
    "train,test = pd.get_dummies(train,columns=[\"room_type\"]),pd.get_dummies(test,columns=[\"room_type\"])"
   ]
  },
  {
   "cell_type": "code",
   "execution_count": 12,
   "id": "efac30d6",
   "metadata": {},
   "outputs": [
    {
     "data": {
      "text/plain": [
       "Index(['name', 'neighbourhood', 'minimum_nights', 'number_of_reviews',\n",
       "       'last_review', 'reviews_per_month', 'availability_365', 'y',\n",
       "       'room_type_Entire home/apt', 'room_type_Hotel room',\n",
       "       'room_type_Private room', 'room_type_Shared room'],\n",
       "      dtype='object')"
      ]
     },
     "execution_count": 12,
     "metadata": {},
     "output_type": "execute_result"
    }
   ],
   "source": [
    "train.columns"
   ]
  },
  {
   "cell_type": "code",
   "execution_count": 13,
   "id": "258dc2b6",
   "metadata": {},
   "outputs": [],
   "source": [
    "int_columns = train.select_dtypes(exclude=\"object\").columns\n",
    "X_train,y_train = train[int_columns].drop([\"y\"],axis=1),train[\"y\"]\n",
    "X_test = test.select_dtypes(exclude=\"object\")"
   ]
  },
  {
   "cell_type": "code",
   "execution_count": 14,
   "id": "b148a366",
   "metadata": {},
   "outputs": [
    {
     "data": {
      "text/plain": [
       "Index(['minimum_nights', 'number_of_reviews', 'reviews_per_month',\n",
       "       'availability_365', 'room_type_Entire home/apt', 'room_type_Hotel room',\n",
       "       'room_type_Private room', 'room_type_Shared room'],\n",
       "      dtype='object')"
      ]
     },
     "execution_count": 14,
     "metadata": {},
     "output_type": "execute_result"
    }
   ],
   "source": [
    "X_train.columns"
   ]
  },
  {
   "cell_type": "code",
   "execution_count": 15,
   "id": "e550cbe0",
   "metadata": {},
   "outputs": [
    {
     "name": "stdout",
     "output_type": "stream",
     "text": [
      "0.9858424551061419\n",
      "0.907043401758408\n",
      "0.9329821920009248\n",
      "0.9249016352270018\n",
      "0.9666780476000008\n",
      "RMSLE: 0.9435\n"
     ]
    }
   ],
   "source": [
    "#定義したX_train,y_trainを入れる\n",
    "scores = []\n",
    "kf = KFold(n_splits=5, shuffle=True, random_state=1)\n",
    "for tr_idx, va_idx in kf.split(X_train):\n",
    "    tr_x, va_x = X_train.iloc[tr_idx], X_train.iloc[va_idx]\n",
    "    tr_y, va_y = y_train.iloc[tr_idx], y_train.iloc[va_idx]\n",
    "    model.fit(tr_x, tr_y)\n",
    "    va_pred = model.predict(va_x)\n",
    "    rmsle = np.sqrt(mean_squared_error(np.log1p(va_y), np.log1p(va_pred)))\n",
    "    scores.append(rmsle)\n",
    "    print(rmsle)\n",
    "\n",
    "# クロスバリデーションの平均のスコアを出力する\n",
    "print(f'RMSLE: {np.mean(scores):.4f}')"
   ]
  },
  {
   "cell_type": "code",
   "execution_count": 16,
   "id": "20ebbd98",
   "metadata": {},
   "outputs": [],
   "source": [
    "model = RFR()\n",
    "model.fit(X_train,y_train)\n",
    "pred = model.predict(X_test)"
   ]
  },
  {
   "cell_type": "code",
   "execution_count": 17,
   "id": "e71772c9",
   "metadata": {},
   "outputs": [
    {
     "data": {
      "text/html": [
       "<div>\n",
       "<style scoped>\n",
       "    .dataframe tbody tr th:only-of-type {\n",
       "        vertical-align: middle;\n",
       "    }\n",
       "\n",
       "    .dataframe tbody tr th {\n",
       "        vertical-align: top;\n",
       "    }\n",
       "\n",
       "    .dataframe thead th {\n",
       "        text-align: right;\n",
       "    }\n",
       "</style>\n",
       "<table border=\"1\" class=\"dataframe\">\n",
       "  <thead>\n",
       "    <tr style=\"text-align: right;\">\n",
       "      <th></th>\n",
       "      <th>id</th>\n",
       "      <th>y</th>\n",
       "    </tr>\n",
       "  </thead>\n",
       "  <tbody>\n",
       "    <tr>\n",
       "      <th>0</th>\n",
       "      <td>1</td>\n",
       "      <td>21220.320641</td>\n",
       "    </tr>\n",
       "    <tr>\n",
       "      <th>1</th>\n",
       "      <td>2</td>\n",
       "      <td>14828.660000</td>\n",
       "    </tr>\n",
       "    <tr>\n",
       "      <th>2</th>\n",
       "      <td>3</td>\n",
       "      <td>90643.610000</td>\n",
       "    </tr>\n",
       "    <tr>\n",
       "      <th>3</th>\n",
       "      <td>4</td>\n",
       "      <td>44074.560000</td>\n",
       "    </tr>\n",
       "    <tr>\n",
       "      <th>4</th>\n",
       "      <td>5</td>\n",
       "      <td>17720.880000</td>\n",
       "    </tr>\n",
       "    <tr>\n",
       "      <th>...</th>\n",
       "      <td>...</td>\n",
       "      <td>...</td>\n",
       "    </tr>\n",
       "    <tr>\n",
       "      <th>4991</th>\n",
       "      <td>4992</td>\n",
       "      <td>10954.580000</td>\n",
       "    </tr>\n",
       "    <tr>\n",
       "      <th>4992</th>\n",
       "      <td>4993</td>\n",
       "      <td>6699.720000</td>\n",
       "    </tr>\n",
       "    <tr>\n",
       "      <th>4993</th>\n",
       "      <td>4994</td>\n",
       "      <td>10793.520000</td>\n",
       "    </tr>\n",
       "    <tr>\n",
       "      <th>4994</th>\n",
       "      <td>4995</td>\n",
       "      <td>8509.820000</td>\n",
       "    </tr>\n",
       "    <tr>\n",
       "      <th>4995</th>\n",
       "      <td>4996</td>\n",
       "      <td>20724.318500</td>\n",
       "    </tr>\n",
       "  </tbody>\n",
       "</table>\n",
       "<p>4996 rows × 2 columns</p>\n",
       "</div>"
      ],
      "text/plain": [
       "        id             y\n",
       "0        1  21220.320641\n",
       "1        2  14828.660000\n",
       "2        3  90643.610000\n",
       "3        4  44074.560000\n",
       "4        5  17720.880000\n",
       "...    ...           ...\n",
       "4991  4992  10954.580000\n",
       "4992  4993   6699.720000\n",
       "4993  4994  10793.520000\n",
       "4994  4995   8509.820000\n",
       "4995  4996  20724.318500\n",
       "\n",
       "[4996 rows x 2 columns]"
      ]
     },
     "execution_count": 17,
     "metadata": {},
     "output_type": "execute_result"
    }
   ],
   "source": [
    "submission = pd.DataFrame({\"id\":id,\"y\":pred})\n",
    "submission"
   ]
  },
  {
   "cell_type": "code",
   "execution_count": 18,
   "id": "57c4db72",
   "metadata": {},
   "outputs": [],
   "source": [
    "submission.to_csv(\"submission.csv\",index=False)"
   ]
  },
  {
   "cell_type": "code",
   "execution_count": null,
   "id": "a9c0e5d3",
   "metadata": {},
   "outputs": [],
   "source": []
  },
  {
   "cell_type": "code",
   "execution_count": null,
   "id": "0b93d27d",
   "metadata": {},
   "outputs": [],
   "source": []
  }
 ],
 "metadata": {
  "kernelspec": {
   "display_name": "Python 3 (ipykernel)",
   "language": "python",
   "name": "python3"
  },
  "language_info": {
   "codemirror_mode": {
    "name": "ipython",
    "version": 3
   },
   "file_extension": ".py",
   "mimetype": "text/x-python",
   "name": "python",
   "nbconvert_exporter": "python",
   "pygments_lexer": "ipython3",
   "version": "3.8.10"
  }
 },
 "nbformat": 4,
 "nbformat_minor": 5
}
