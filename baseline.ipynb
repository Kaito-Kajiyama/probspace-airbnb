{
 "cells": [
  {
   "cell_type": "code",
   "execution_count": 20,
   "id": "c4db3f2d",
   "metadata": {},
   "outputs": [],
   "source": [
    "import pandas as pd\n",
    "import seaborn as sns\n",
    "from sklearn.ensemble import RandomForestRegressor as RFR\n",
    "from sklearn.metrics import mean_squared_error\n",
    "from sklearn.model_selection import KFold\n",
    "import numpy as np\n",
    "from sklearn.model_selection import train_test_split\n",
    "import matplotlib.pyplot as plt\n",
    "from sklearn.metrics import roc_auc_score"
   ]
  },
  {
   "cell_type": "markdown",
   "id": "05069729",
   "metadata": {},
   "source": [
    "# データ読み込み"
   ]
  },
  {
   "cell_type": "code",
   "execution_count": 21,
   "id": "361d249a",
   "metadata": {},
   "outputs": [],
   "source": [
    "train = pd.read_csv(\"train_data.csv\")\n",
    "test = pd.read_csv(\"test_data.csv\")\n",
    "stations = pd.read_csv(\"station_list.csv\")"
   ]
  },
  {
   "cell_type": "code",
   "execution_count": 22,
   "id": "9168222f",
   "metadata": {},
   "outputs": [],
   "source": [
    "#欠損値削除\n",
    "train[\"reviews_per_month\"] = train[\"reviews_per_month\"].fillna(0)\n",
    "train[\"last_review\"] = train[\"last_review\"].fillna(\"1900-01-01\")\n",
    "test[\"reviews_per_month\"] = test[\"reviews_per_month\"].fillna(0)\n",
    "test[\"last_review\"] = test[\"last_review\"].fillna(\"1900-01-01\")"
   ]
  },
  {
   "cell_type": "code",
   "execution_count": 23,
   "id": "ccbe2bb3",
   "metadata": {},
   "outputs": [
    {
     "name": "stdout",
     "output_type": "stream",
     "text": [
      "distance.csv already existed\n"
     ]
    }
   ],
   "source": [
    "!station_distance.py"
   ]
  },
  {
   "cell_type": "code",
   "execution_count": 24,
   "id": "47b10564",
   "metadata": {},
   "outputs": [],
   "source": [
    "distance = pd.read_csv(\"distance.csv\")\n",
    "#adversarial validationのためのラベル付け\n",
    "train[\"label\"] = 1\n",
    "test[\"label\"] = 0\n",
    "all_data = pd.concat([train,test],axis=0)\n",
    "all_data[\"near_station\"] = distance[\"near_station\"]\n",
    "all_data[\"dist_from_sta\"] = distance[\"dist_from_sta\"]\n",
    "train.drop(\"label\",axis=1,inplace=True)\n",
    "test.drop(\"label\",axis=1,inplace=True)"
   ]
  },
  {
   "cell_type": "code",
   "execution_count": 25,
   "id": "3175b6cc",
   "metadata": {},
   "outputs": [
    {
     "data": {
      "text/html": [
       "<div>\n",
       "<style scoped>\n",
       "    .dataframe tbody tr th:only-of-type {\n",
       "        vertical-align: middle;\n",
       "    }\n",
       "\n",
       "    .dataframe tbody tr th {\n",
       "        vertical-align: top;\n",
       "    }\n",
       "\n",
       "    .dataframe thead th {\n",
       "        text-align: right;\n",
       "    }\n",
       "</style>\n",
       "<table border=\"1\" class=\"dataframe\">\n",
       "  <thead>\n",
       "    <tr style=\"text-align: right;\">\n",
       "      <th></th>\n",
       "      <th>id</th>\n",
       "      <th>name</th>\n",
       "      <th>host_id</th>\n",
       "      <th>neighbourhood</th>\n",
       "      <th>latitude</th>\n",
       "      <th>longitude</th>\n",
       "      <th>room_type</th>\n",
       "      <th>minimum_nights</th>\n",
       "      <th>number_of_reviews</th>\n",
       "      <th>last_review</th>\n",
       "      <th>reviews_per_month</th>\n",
       "      <th>availability_365</th>\n",
       "      <th>y</th>\n",
       "      <th>label</th>\n",
       "      <th>near_station</th>\n",
       "      <th>dist_from_sta</th>\n",
       "    </tr>\n",
       "  </thead>\n",
       "  <tbody>\n",
       "    <tr>\n",
       "      <th>0</th>\n",
       "      <td>1</td>\n",
       "      <td>KiyosumiShirakawa 3min|★SkyTree★|WIFI|Max4|Tre...</td>\n",
       "      <td>242899459</td>\n",
       "      <td>Koto Ku</td>\n",
       "      <td>35.68185</td>\n",
       "      <td>139.80310</td>\n",
       "      <td>Entire home/apt</td>\n",
       "      <td>1</td>\n",
       "      <td>55</td>\n",
       "      <td>2020-04-25</td>\n",
       "      <td>2.21</td>\n",
       "      <td>173</td>\n",
       "      <td>12008.0</td>\n",
       "      <td>1</td>\n",
       "      <td>清澄白河</td>\n",
       "      <td>385.676932</td>\n",
       "    </tr>\n",
       "    <tr>\n",
       "      <th>1</th>\n",
       "      <td>2</td>\n",
       "      <td>Downtown Tokyo Iriya next to Ueno</td>\n",
       "      <td>308879948</td>\n",
       "      <td>Taito Ku</td>\n",
       "      <td>35.72063</td>\n",
       "      <td>139.78536</td>\n",
       "      <td>Entire home/apt</td>\n",
       "      <td>6</td>\n",
       "      <td>72</td>\n",
       "      <td>2020-03-25</td>\n",
       "      <td>2.11</td>\n",
       "      <td>9</td>\n",
       "      <td>6667.0</td>\n",
       "      <td>1</td>\n",
       "      <td>入谷</td>\n",
       "      <td>155.380783</td>\n",
       "    </tr>\n",
       "    <tr>\n",
       "      <th>2</th>\n",
       "      <td>3</td>\n",
       "      <td>Japan Style,Private,Affordable,4min to Sta.</td>\n",
       "      <td>300877823</td>\n",
       "      <td>Katsushika Ku</td>\n",
       "      <td>35.74723</td>\n",
       "      <td>139.82349</td>\n",
       "      <td>Entire home/apt</td>\n",
       "      <td>1</td>\n",
       "      <td>18</td>\n",
       "      <td>2020-03-23</td>\n",
       "      <td>3.46</td>\n",
       "      <td>288</td>\n",
       "      <td>9923.0</td>\n",
       "      <td>1</td>\n",
       "      <td>堀切菖蒲園</td>\n",
       "      <td>369.710584</td>\n",
       "    </tr>\n",
       "    <tr>\n",
       "      <th>3</th>\n",
       "      <td>4</td>\n",
       "      <td>4 min to Shinjuku Sta. by train / 2 ppl / Wi-fi</td>\n",
       "      <td>236935461</td>\n",
       "      <td>Shibuya Ku</td>\n",
       "      <td>35.68456</td>\n",
       "      <td>139.68077</td>\n",
       "      <td>Entire home/apt</td>\n",
       "      <td>1</td>\n",
       "      <td>2</td>\n",
       "      <td>2020-04-02</td>\n",
       "      <td>1.76</td>\n",
       "      <td>87</td>\n",
       "      <td>8109.0</td>\n",
       "      <td>1</td>\n",
       "      <td>初台</td>\n",
       "      <td>626.117356</td>\n",
       "    </tr>\n",
       "    <tr>\n",
       "      <th>4</th>\n",
       "      <td>5</td>\n",
       "      <td>LICENSED SHINJUKU HOUSE: Heart of the action!</td>\n",
       "      <td>243408889</td>\n",
       "      <td>Shinjuku Ku</td>\n",
       "      <td>35.69840</td>\n",
       "      <td>139.70467</td>\n",
       "      <td>Entire home/apt</td>\n",
       "      <td>1</td>\n",
       "      <td>86</td>\n",
       "      <td>2020-01-30</td>\n",
       "      <td>2.00</td>\n",
       "      <td>156</td>\n",
       "      <td>100390.0</td>\n",
       "      <td>1</td>\n",
       "      <td>東新宿</td>\n",
       "      <td>265.953843</td>\n",
       "    </tr>\n",
       "  </tbody>\n",
       "</table>\n",
       "</div>"
      ],
      "text/plain": [
       "   id                                               name    host_id  \\\n",
       "0   1  KiyosumiShirakawa 3min|★SkyTree★|WIFI|Max4|Tre...  242899459   \n",
       "1   2                  Downtown Tokyo Iriya next to Ueno  308879948   \n",
       "2   3        Japan Style,Private,Affordable,4min to Sta.  300877823   \n",
       "3   4    4 min to Shinjuku Sta. by train / 2 ppl / Wi-fi  236935461   \n",
       "4   5      LICENSED SHINJUKU HOUSE: Heart of the action!  243408889   \n",
       "\n",
       "   neighbourhood  latitude  longitude        room_type  minimum_nights  \\\n",
       "0        Koto Ku  35.68185  139.80310  Entire home/apt               1   \n",
       "1       Taito Ku  35.72063  139.78536  Entire home/apt               6   \n",
       "2  Katsushika Ku  35.74723  139.82349  Entire home/apt               1   \n",
       "3     Shibuya Ku  35.68456  139.68077  Entire home/apt               1   \n",
       "4    Shinjuku Ku  35.69840  139.70467  Entire home/apt               1   \n",
       "\n",
       "   number_of_reviews last_review  reviews_per_month  availability_365  \\\n",
       "0                 55  2020-04-25               2.21               173   \n",
       "1                 72  2020-03-25               2.11                 9   \n",
       "2                 18  2020-03-23               3.46               288   \n",
       "3                  2  2020-04-02               1.76                87   \n",
       "4                 86  2020-01-30               2.00               156   \n",
       "\n",
       "          y  label near_station  dist_from_sta  \n",
       "0   12008.0      1         清澄白河     385.676932  \n",
       "1    6667.0      1           入谷     155.380783  \n",
       "2    9923.0      1        堀切菖蒲園     369.710584  \n",
       "3    8109.0      1           初台     626.117356  \n",
       "4  100390.0      1          東新宿     265.953843  "
      ]
     },
     "execution_count": 25,
     "metadata": {},
     "output_type": "execute_result"
    }
   ],
   "source": [
    "all_data.head()"
   ]
  },
  {
   "cell_type": "markdown",
   "id": "403e7dde",
   "metadata": {},
   "source": [
    "# 特徴量削除"
   ]
  },
  {
   "cell_type": "code",
   "execution_count": 26,
   "id": "5ed68887",
   "metadata": {},
   "outputs": [],
   "source": [
    "id = test[\"id\"]\n",
    "drop_list = [\"id\",\"host_id\",\"latitude\",\"longitude\"]\n",
    "train.drop(drop_list,axis=1,inplace=True)\n",
    "test.drop(drop_list,axis=1,inplace=True)\n",
    "all_data.drop([\"y\"],axis=1,inplace=True)\n",
    "all_data.drop(drop_list,axis=1,inplace=True)"
   ]
  },
  {
   "cell_type": "code",
   "execution_count": 27,
   "id": "5498817e",
   "metadata": {},
   "outputs": [
    {
     "data": {
      "text/plain": [
       "Index(['name', 'neighbourhood', 'room_type', 'minimum_nights',\n",
       "       'number_of_reviews', 'last_review', 'reviews_per_month',\n",
       "       'availability_365', 'label', 'near_station', 'dist_from_sta'],\n",
       "      dtype='object')"
      ]
     },
     "execution_count": 27,
     "metadata": {},
     "output_type": "execute_result"
    }
   ],
   "source": [
    "all_data.columns"
   ]
  },
  {
   "cell_type": "code",
   "execution_count": 28,
   "id": "c1ddd96f",
   "metadata": {},
   "outputs": [],
   "source": [
    "one_hot_list = [\"room_type\",\"neighbourhood\"]\n",
    "all_data = pd.get_dummies(all_data,columns=one_hot_list)"
   ]
  },
  {
   "cell_type": "code",
   "execution_count": 29,
   "id": "e004411a",
   "metadata": {},
   "outputs": [
    {
     "name": "stdout",
     "output_type": "stream",
     "text": [
      "0.783053277072911\n"
     ]
    }
   ],
   "source": [
    "X_all = all_data.drop([\"label\"],axis=1).select_dtypes(exclude=\"object\")\n",
    "y_all = all_data[\"label\"]\n",
    "X_train_adv, X_valid_adv, y_train_adv, y_valid_adv = train_test_split(X_all, y_all, test_size=0.33, random_state=42, shuffle=True)\n",
    "model = RFR()\n",
    "model.fit(X_train_adv, y_train_adv)\n",
    "y_pred = model.predict(X_valid_adv)\n",
    "print(roc_auc_score(y_valid_adv,y_pred))"
   ]
  },
  {
   "cell_type": "code",
   "execution_count": 30,
   "id": "0ff76830",
   "metadata": {},
   "outputs": [
    {
     "name": "stdout",
     "output_type": "stream",
     "text": [
      "minimum_nights: 0.7448932640433191\n",
      "number_of_reviews: 0.7692164737327458\n",
      "reviews_per_month: 0.7771359859263282\n",
      "availability_365: 0.7135844861912541\n",
      "dist_from_sta: 0.7823812881375762\n",
      "room_type_Entire home/apt: 0.784534686536215\n",
      "room_type_Hotel room: 0.7866806298450729\n",
      "room_type_Private room: 0.7864652399922545\n",
      "room_type_Shared room: 0.7875391722082424\n",
      "neighbourhood_Adachi Ku: 0.7864292038703422\n",
      "neighbourhood_Arakawa Ku: 0.7851103178659546\n",
      "neighbourhood_Bunkyo Ku: 0.7865375662805778\n",
      "neighbourhood_Chiyoda Ku: 0.7844141225173311\n",
      "neighbourhood_Chuo Ku: 0.7831790187767464\n",
      "neighbourhood_Edogawa Ku: 0.7829323353090156\n",
      "neighbourhood_Itabashi Ku: 0.7850473642457592\n",
      "neighbourhood_Katsushika Ku: 0.7849866353471772\n",
      "neighbourhood_Kita Ku: 0.7849060943760054\n",
      "neighbourhood_Koto Ku: 0.784012311266836\n",
      "neighbourhood_Meguro Ku: 0.7882114964016278\n",
      "neighbourhood_Minato Ku: 0.7845866451435249\n",
      "neighbourhood_Nakano Ku: 0.7848779842067656\n",
      "neighbourhood_Nerima Ku: 0.7849797700542291\n",
      "neighbourhood_Ota Ku: 0.7847415265901203\n",
      "neighbourhood_Setagaya Ku: 0.7845110019607211\n",
      "neighbourhood_Shibuya Ku: 0.7815303759377086\n",
      "neighbourhood_Shinagawa Ku: 0.7839262603323955\n",
      "neighbourhood_Shinjuku Ku: 0.7712498735510438\n",
      "neighbourhood_Suginami Ku: 0.7847912415123671\n",
      "neighbourhood_Sumida Ku: 0.7783559924601828\n",
      "neighbourhood_Taito Ku: 0.7795432551693796\n",
      "neighbourhood_Toshima Ku: 0.783064462035387\n"
     ]
    }
   ],
   "source": [
    "for column in all_data.drop(\"label\",axis=1).select_dtypes(exclude=\"object\").columns:\n",
    "    X_all = all_data.drop([\"label\",column],axis=1).select_dtypes(exclude=\"object\")\n",
    "    y_all = all_data[\"label\"]\n",
    "    X_train_adv, X_valid_adv, y_train_adv, y_valid_adv = train_test_split(X_all, y_all, test_size=0.33, random_state=42, shuffle=True)\n",
    "    scores = []\n",
    "    kf = KFold(n_splits=5, shuffle=True, random_state=1)\n",
    "    for tr_idx, va_idx in kf.split(X_all):\n",
    "        tr_x, va_x = X_all.iloc[tr_idx], X_all.iloc[va_idx]\n",
    "        tr_y, va_y = y_all.iloc[tr_idx], y_all.iloc[va_idx]\n",
    "        model.fit(tr_x, tr_y)\n",
    "        va_pred = model.predict(va_x)\n",
    "        roc_auc = roc_auc_score(va_y,va_pred)\n",
    "        scores.append(roc_auc)\n",
    "    # クロスバリデーションの平均のスコアを出力する\n",
    "    print(\"{0}:\".format(column),np.mean(scores))"
   ]
  },
  {
   "cell_type": "markdown",
   "id": "12d771c9",
   "metadata": {},
   "source": [
    "# 駅情報等を追加し、モデル作成"
   ]
  },
  {
   "cell_type": "code",
   "execution_count": 11,
   "id": "d8ed2253",
   "metadata": {},
   "outputs": [],
   "source": [
    "total_data = pd.concat([train,test],axis=0)\n",
    "total_data[\"near_station\"] = distance[\"near_station\"]\n",
    "total_data[\"dist_from_sta\"] = distance[\"dist_from_sta\"]\n",
    "total_data = pd.get_dummies(total_data,columns=one_hot_list)\n",
    "train,test = total_data[:train.shape[0]],total_data[train.shape[0]:].drop(\"y\",axis=1)"
   ]
  },
  {
   "cell_type": "code",
   "execution_count": 12,
   "id": "5e4a9645",
   "metadata": {},
   "outputs": [
    {
     "data": {
      "text/plain": [
       "Index(['name', 'minimum_nights', 'number_of_reviews', 'last_review',\n",
       "       'reviews_per_month', 'availability_365', 'y', 'near_station',\n",
       "       'dist_from_sta', 'room_type_Entire home/apt', 'room_type_Hotel room',\n",
       "       'room_type_Private room', 'room_type_Shared room',\n",
       "       'neighbourhood_Adachi Ku', 'neighbourhood_Arakawa Ku',\n",
       "       'neighbourhood_Bunkyo Ku', 'neighbourhood_Chiyoda Ku',\n",
       "       'neighbourhood_Chuo Ku', 'neighbourhood_Edogawa Ku',\n",
       "       'neighbourhood_Itabashi Ku', 'neighbourhood_Katsushika Ku',\n",
       "       'neighbourhood_Kita Ku', 'neighbourhood_Koto Ku',\n",
       "       'neighbourhood_Meguro Ku', 'neighbourhood_Minato Ku',\n",
       "       'neighbourhood_Nakano Ku', 'neighbourhood_Nerima Ku',\n",
       "       'neighbourhood_Ota Ku', 'neighbourhood_Setagaya Ku',\n",
       "       'neighbourhood_Shibuya Ku', 'neighbourhood_Shinagawa Ku',\n",
       "       'neighbourhood_Shinjuku Ku', 'neighbourhood_Suginami Ku',\n",
       "       'neighbourhood_Sumida Ku', 'neighbourhood_Taito Ku',\n",
       "       'neighbourhood_Toshima Ku'],\n",
       "      dtype='object')"
      ]
     },
     "execution_count": 12,
     "metadata": {},
     "output_type": "execute_result"
    }
   ],
   "source": [
    "train.columns"
   ]
  },
  {
   "cell_type": "code",
   "execution_count": 13,
   "id": "258dc2b6",
   "metadata": {},
   "outputs": [],
   "source": [
    "int_columns = train.select_dtypes(exclude=\"object\").columns\n",
    "X_train,y_train = train[int_columns].drop([\"y\"],axis=1),train[\"y\"]\n",
    "X_test = test.select_dtypes(exclude=\"object\")"
   ]
  },
  {
   "cell_type": "code",
   "execution_count": 14,
   "id": "b148a366",
   "metadata": {},
   "outputs": [
    {
     "data": {
      "text/plain": [
       "Index(['minimum_nights', 'number_of_reviews', 'reviews_per_month',\n",
       "       'availability_365', 'dist_from_sta', 'room_type_Entire home/apt',\n",
       "       'room_type_Hotel room', 'room_type_Private room',\n",
       "       'room_type_Shared room', 'neighbourhood_Adachi Ku',\n",
       "       'neighbourhood_Arakawa Ku', 'neighbourhood_Bunkyo Ku',\n",
       "       'neighbourhood_Chiyoda Ku', 'neighbourhood_Chuo Ku',\n",
       "       'neighbourhood_Edogawa Ku', 'neighbourhood_Itabashi Ku',\n",
       "       'neighbourhood_Katsushika Ku', 'neighbourhood_Kita Ku',\n",
       "       'neighbourhood_Koto Ku', 'neighbourhood_Meguro Ku',\n",
       "       'neighbourhood_Minato Ku', 'neighbourhood_Nakano Ku',\n",
       "       'neighbourhood_Nerima Ku', 'neighbourhood_Ota Ku',\n",
       "       'neighbourhood_Setagaya Ku', 'neighbourhood_Shibuya Ku',\n",
       "       'neighbourhood_Shinagawa Ku', 'neighbourhood_Shinjuku Ku',\n",
       "       'neighbourhood_Suginami Ku', 'neighbourhood_Sumida Ku',\n",
       "       'neighbourhood_Taito Ku', 'neighbourhood_Toshima Ku'],\n",
       "      dtype='object')"
      ]
     },
     "execution_count": 14,
     "metadata": {},
     "output_type": "execute_result"
    }
   ],
   "source": [
    "X_train.columns"
   ]
  },
  {
   "cell_type": "code",
   "execution_count": 15,
   "id": "e550cbe0",
   "metadata": {},
   "outputs": [
    {
     "name": "stdout",
     "output_type": "stream",
     "text": [
      "0.8569140503427893\n",
      "0.853057505769426\n",
      "0.8169897242113493\n",
      "0.8551292151568244\n",
      "0.8287167152451475\n",
      "RMSLE: 0.8422\n"
     ]
    }
   ],
   "source": [
    "#定義したX_train,y_trainを入れる\n",
    "scores = []\n",
    "kf = KFold(n_splits=5, shuffle=True, random_state=1)\n",
    "for tr_idx, va_idx in kf.split(X_train):\n",
    "    tr_x, va_x = X_train.iloc[tr_idx], X_train.iloc[va_idx]\n",
    "    tr_y, va_y = y_train.iloc[tr_idx], y_train.iloc[va_idx]\n",
    "    model.fit(tr_x, tr_y)\n",
    "    va_pred = model.predict(va_x)\n",
    "    rmsle = np.sqrt(mean_squared_error(np.log1p(va_y), np.log1p(va_pred)))\n",
    "    scores.append(rmsle)\n",
    "    print(rmsle)\n",
    "\n",
    "# クロスバリデーションの平均のスコアを出力する\n",
    "print(f'RMSLE: {np.mean(scores):.4f}')"
   ]
  },
  {
   "cell_type": "code",
   "execution_count": 17,
   "id": "20ebbd98",
   "metadata": {},
   "outputs": [],
   "source": [
    "model = RFR()\n",
    "model.fit(X_train,y_train)\n",
    "pred = model.predict(X_test)"
   ]
  },
  {
   "cell_type": "code",
   "execution_count": 18,
   "id": "e71772c9",
   "metadata": {},
   "outputs": [
    {
     "data": {
      "text/html": [
       "<div>\n",
       "<style scoped>\n",
       "    .dataframe tbody tr th:only-of-type {\n",
       "        vertical-align: middle;\n",
       "    }\n",
       "\n",
       "    .dataframe tbody tr th {\n",
       "        vertical-align: top;\n",
       "    }\n",
       "\n",
       "    .dataframe thead th {\n",
       "        text-align: right;\n",
       "    }\n",
       "</style>\n",
       "<table border=\"1\" class=\"dataframe\">\n",
       "  <thead>\n",
       "    <tr style=\"text-align: right;\">\n",
       "      <th></th>\n",
       "      <th>id</th>\n",
       "      <th>y</th>\n",
       "    </tr>\n",
       "  </thead>\n",
       "  <tbody>\n",
       "    <tr>\n",
       "      <th>0</th>\n",
       "      <td>1</td>\n",
       "      <td>14117.35</td>\n",
       "    </tr>\n",
       "    <tr>\n",
       "      <th>1</th>\n",
       "      <td>2</td>\n",
       "      <td>24227.83</td>\n",
       "    </tr>\n",
       "    <tr>\n",
       "      <th>2</th>\n",
       "      <td>3</td>\n",
       "      <td>17273.87</td>\n",
       "    </tr>\n",
       "    <tr>\n",
       "      <th>3</th>\n",
       "      <td>4</td>\n",
       "      <td>31651.29</td>\n",
       "    </tr>\n",
       "    <tr>\n",
       "      <th>4</th>\n",
       "      <td>5</td>\n",
       "      <td>15545.36</td>\n",
       "    </tr>\n",
       "    <tr>\n",
       "      <th>...</th>\n",
       "      <td>...</td>\n",
       "      <td>...</td>\n",
       "    </tr>\n",
       "    <tr>\n",
       "      <th>4991</th>\n",
       "      <td>4992</td>\n",
       "      <td>24872.12</td>\n",
       "    </tr>\n",
       "    <tr>\n",
       "      <th>4992</th>\n",
       "      <td>4993</td>\n",
       "      <td>8168.80</td>\n",
       "    </tr>\n",
       "    <tr>\n",
       "      <th>4993</th>\n",
       "      <td>4994</td>\n",
       "      <td>17846.76</td>\n",
       "    </tr>\n",
       "    <tr>\n",
       "      <th>4994</th>\n",
       "      <td>4995</td>\n",
       "      <td>6982.56</td>\n",
       "    </tr>\n",
       "    <tr>\n",
       "      <th>4995</th>\n",
       "      <td>4996</td>\n",
       "      <td>17262.98</td>\n",
       "    </tr>\n",
       "  </tbody>\n",
       "</table>\n",
       "<p>4996 rows × 2 columns</p>\n",
       "</div>"
      ],
      "text/plain": [
       "        id         y\n",
       "0        1  14117.35\n",
       "1        2  24227.83\n",
       "2        3  17273.87\n",
       "3        4  31651.29\n",
       "4        5  15545.36\n",
       "...    ...       ...\n",
       "4991  4992  24872.12\n",
       "4992  4993   8168.80\n",
       "4993  4994  17846.76\n",
       "4994  4995   6982.56\n",
       "4995  4996  17262.98\n",
       "\n",
       "[4996 rows x 2 columns]"
      ]
     },
     "execution_count": 18,
     "metadata": {},
     "output_type": "execute_result"
    }
   ],
   "source": [
    "submission = pd.DataFrame({\"id\":id,\"y\":pred})\n",
    "submission"
   ]
  },
  {
   "cell_type": "code",
   "execution_count": 19,
   "id": "57c4db72",
   "metadata": {},
   "outputs": [],
   "source": [
    "submission.to_csv(\"submission.csv\",index=False)"
   ]
  },
  {
   "cell_type": "code",
   "execution_count": null,
   "id": "a9c0e5d3",
   "metadata": {},
   "outputs": [],
   "source": []
  },
  {
   "cell_type": "code",
   "execution_count": null,
   "id": "0b93d27d",
   "metadata": {},
   "outputs": [],
   "source": []
  }
 ],
 "metadata": {
  "kernelspec": {
   "display_name": "Python 3 (ipykernel)",
   "language": "python",
   "name": "python3"
  },
  "language_info": {
   "codemirror_mode": {
    "name": "ipython",
    "version": 3
   },
   "file_extension": ".py",
   "mimetype": "text/x-python",
   "name": "python",
   "nbconvert_exporter": "python",
   "pygments_lexer": "ipython3",
   "version": "3.8.10"
  }
 },
 "nbformat": 4,
 "nbformat_minor": 5
}
