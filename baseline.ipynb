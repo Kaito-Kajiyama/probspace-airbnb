{
 "cells": [
  {
   "cell_type": "code",
   "execution_count": 1,
   "id": "c4db3f2d",
   "metadata": {},
   "outputs": [],
   "source": [
    "import pandas as pd\n",
    "import seaborn as sns\n",
    "from sklearn.ensemble import RandomForestRegressor as RFR\n",
    "from sklearn.metrics import mean_squared_error\n",
    "from sklearn.model_selection import KFold\n",
    "import numpy as np\n",
    "from sklearn.model_selection import train_test_split\n",
    "import matplotlib.pyplot as plt\n",
    "from sklearn.metrics import roc_auc_score\n",
    "import lightgbm as lgb"
   ]
  },
  {
   "cell_type": "markdown",
   "id": "05069729",
   "metadata": {},
   "source": [
    "# データ読み込み"
   ]
  },
  {
   "cell_type": "code",
   "execution_count": 2,
   "id": "361d249a",
   "metadata": {},
   "outputs": [],
   "source": [
    "train = pd.read_csv(\"train_data.csv\")\n",
    "test = pd.read_csv(\"test_data.csv\")\n",
    "stations = pd.read_csv(\"station_list.csv\")"
   ]
  },
  {
   "cell_type": "code",
   "execution_count": 3,
   "id": "9168222f",
   "metadata": {},
   "outputs": [],
   "source": [
    "#欠損値削除\n",
    "train[\"reviews_per_month\"] = train[\"reviews_per_month\"].fillna(0)\n",
    "train[\"last_review\"] = train[\"last_review\"].fillna(\"1900-01-01\")\n",
    "test[\"reviews_per_month\"] = test[\"reviews_per_month\"].fillna(0)\n",
    "test[\"last_review\"] = test[\"last_review\"].fillna(\"1900-01-01\")"
   ]
  },
  {
   "cell_type": "code",
   "execution_count": 4,
   "id": "ccbe2bb3",
   "metadata": {},
   "outputs": [
    {
     "name": "stdout",
     "output_type": "stream",
     "text": [
      "distance.csv already existed\n"
     ]
    }
   ],
   "source": [
    "!station_distance.py"
   ]
  },
  {
   "cell_type": "code",
   "execution_count": 5,
   "id": "47b10564",
   "metadata": {},
   "outputs": [],
   "source": [
    "distance = pd.read_csv(\"distance.csv\")\n",
    "#adversarial validationのためのラベル付け\n",
    "train[\"label\"] = 1\n",
    "test[\"label\"] = 0\n",
    "all_data = pd.concat([train,test],axis=0)\n",
    "all_data[\"near_station\"] = distance[\"near_station\"]\n",
    "all_data[\"dist_from_sta\"] = distance[\"dist_from_sta\"]\n",
    "train.drop(\"label\",axis=1,inplace=True)\n",
    "test.drop(\"label\",axis=1,inplace=True)"
   ]
  },
  {
   "cell_type": "markdown",
   "id": "1ee9f05e",
   "metadata": {},
   "source": [
    "# 特徴量追加"
   ]
  },
  {
   "cell_type": "code",
   "execution_count": 6,
   "id": "4d59ebf4",
   "metadata": {},
   "outputs": [],
   "source": [
    "#180日以上かどうか\n",
    "train[\"180_over\"] = (train[\"availability_365\"] > 180).astype(int)\n",
    "test[\"180_over\"] = (test[\"availability_365\"] > 180).astype(int)\n",
    "all_data[\"180_over\"] = (all_data[\"availability_365\"] > 180).astype(int)\n",
    "\n",
    "#レビューがあるかどうか\n",
    "train[\"review_label\"] = (train[\"number_of_reviews\"] > 0).astype(int)\n",
    "test[\"review_label\"] = (test[\"number_of_reviews\"] > 0).astype(int)\n",
    "all_data[\"review_label\"] = (all_data[\"number_of_reviews\"] > 0).astype(int)\n"
   ]
  },
  {
   "cell_type": "code",
   "execution_count": 7,
   "id": "3175b6cc",
   "metadata": {},
   "outputs": [
    {
     "data": {
      "text/html": [
       "<div>\n",
       "<style scoped>\n",
       "    .dataframe tbody tr th:only-of-type {\n",
       "        vertical-align: middle;\n",
       "    }\n",
       "\n",
       "    .dataframe tbody tr th {\n",
       "        vertical-align: top;\n",
       "    }\n",
       "\n",
       "    .dataframe thead th {\n",
       "        text-align: right;\n",
       "    }\n",
       "</style>\n",
       "<table border=\"1\" class=\"dataframe\">\n",
       "  <thead>\n",
       "    <tr style=\"text-align: right;\">\n",
       "      <th></th>\n",
       "      <th>id</th>\n",
       "      <th>name</th>\n",
       "      <th>host_id</th>\n",
       "      <th>neighbourhood</th>\n",
       "      <th>latitude</th>\n",
       "      <th>longitude</th>\n",
       "      <th>room_type</th>\n",
       "      <th>minimum_nights</th>\n",
       "      <th>number_of_reviews</th>\n",
       "      <th>last_review</th>\n",
       "      <th>reviews_per_month</th>\n",
       "      <th>availability_365</th>\n",
       "      <th>y</th>\n",
       "      <th>label</th>\n",
       "      <th>near_station</th>\n",
       "      <th>dist_from_sta</th>\n",
       "      <th>180_over</th>\n",
       "      <th>review_label</th>\n",
       "    </tr>\n",
       "  </thead>\n",
       "  <tbody>\n",
       "    <tr>\n",
       "      <th>0</th>\n",
       "      <td>1</td>\n",
       "      <td>KiyosumiShirakawa 3min|★SkyTree★|WIFI|Max4|Tre...</td>\n",
       "      <td>242899459</td>\n",
       "      <td>Koto Ku</td>\n",
       "      <td>35.68185</td>\n",
       "      <td>139.80310</td>\n",
       "      <td>Entire home/apt</td>\n",
       "      <td>1</td>\n",
       "      <td>55</td>\n",
       "      <td>2020-04-25</td>\n",
       "      <td>2.21</td>\n",
       "      <td>173</td>\n",
       "      <td>12008.0</td>\n",
       "      <td>1</td>\n",
       "      <td>清澄白河</td>\n",
       "      <td>385.676932</td>\n",
       "      <td>0</td>\n",
       "      <td>1</td>\n",
       "    </tr>\n",
       "    <tr>\n",
       "      <th>1</th>\n",
       "      <td>2</td>\n",
       "      <td>Downtown Tokyo Iriya next to Ueno</td>\n",
       "      <td>308879948</td>\n",
       "      <td>Taito Ku</td>\n",
       "      <td>35.72063</td>\n",
       "      <td>139.78536</td>\n",
       "      <td>Entire home/apt</td>\n",
       "      <td>6</td>\n",
       "      <td>72</td>\n",
       "      <td>2020-03-25</td>\n",
       "      <td>2.11</td>\n",
       "      <td>9</td>\n",
       "      <td>6667.0</td>\n",
       "      <td>1</td>\n",
       "      <td>入谷</td>\n",
       "      <td>155.380783</td>\n",
       "      <td>0</td>\n",
       "      <td>1</td>\n",
       "    </tr>\n",
       "    <tr>\n",
       "      <th>2</th>\n",
       "      <td>3</td>\n",
       "      <td>Japan Style,Private,Affordable,4min to Sta.</td>\n",
       "      <td>300877823</td>\n",
       "      <td>Katsushika Ku</td>\n",
       "      <td>35.74723</td>\n",
       "      <td>139.82349</td>\n",
       "      <td>Entire home/apt</td>\n",
       "      <td>1</td>\n",
       "      <td>18</td>\n",
       "      <td>2020-03-23</td>\n",
       "      <td>3.46</td>\n",
       "      <td>288</td>\n",
       "      <td>9923.0</td>\n",
       "      <td>1</td>\n",
       "      <td>堀切菖蒲園</td>\n",
       "      <td>369.710584</td>\n",
       "      <td>1</td>\n",
       "      <td>1</td>\n",
       "    </tr>\n",
       "    <tr>\n",
       "      <th>3</th>\n",
       "      <td>4</td>\n",
       "      <td>4 min to Shinjuku Sta. by train / 2 ppl / Wi-fi</td>\n",
       "      <td>236935461</td>\n",
       "      <td>Shibuya Ku</td>\n",
       "      <td>35.68456</td>\n",
       "      <td>139.68077</td>\n",
       "      <td>Entire home/apt</td>\n",
       "      <td>1</td>\n",
       "      <td>2</td>\n",
       "      <td>2020-04-02</td>\n",
       "      <td>1.76</td>\n",
       "      <td>87</td>\n",
       "      <td>8109.0</td>\n",
       "      <td>1</td>\n",
       "      <td>初台</td>\n",
       "      <td>626.117356</td>\n",
       "      <td>0</td>\n",
       "      <td>1</td>\n",
       "    </tr>\n",
       "    <tr>\n",
       "      <th>4</th>\n",
       "      <td>5</td>\n",
       "      <td>LICENSED SHINJUKU HOUSE: Heart of the action!</td>\n",
       "      <td>243408889</td>\n",
       "      <td>Shinjuku Ku</td>\n",
       "      <td>35.69840</td>\n",
       "      <td>139.70467</td>\n",
       "      <td>Entire home/apt</td>\n",
       "      <td>1</td>\n",
       "      <td>86</td>\n",
       "      <td>2020-01-30</td>\n",
       "      <td>2.00</td>\n",
       "      <td>156</td>\n",
       "      <td>100390.0</td>\n",
       "      <td>1</td>\n",
       "      <td>東新宿</td>\n",
       "      <td>265.953843</td>\n",
       "      <td>0</td>\n",
       "      <td>1</td>\n",
       "    </tr>\n",
       "  </tbody>\n",
       "</table>\n",
       "</div>"
      ],
      "text/plain": [
       "   id                                               name    host_id  \\\n",
       "0   1  KiyosumiShirakawa 3min|★SkyTree★|WIFI|Max4|Tre...  242899459   \n",
       "1   2                  Downtown Tokyo Iriya next to Ueno  308879948   \n",
       "2   3        Japan Style,Private,Affordable,4min to Sta.  300877823   \n",
       "3   4    4 min to Shinjuku Sta. by train / 2 ppl / Wi-fi  236935461   \n",
       "4   5      LICENSED SHINJUKU HOUSE: Heart of the action!  243408889   \n",
       "\n",
       "   neighbourhood  latitude  longitude        room_type  minimum_nights  \\\n",
       "0        Koto Ku  35.68185  139.80310  Entire home/apt               1   \n",
       "1       Taito Ku  35.72063  139.78536  Entire home/apt               6   \n",
       "2  Katsushika Ku  35.74723  139.82349  Entire home/apt               1   \n",
       "3     Shibuya Ku  35.68456  139.68077  Entire home/apt               1   \n",
       "4    Shinjuku Ku  35.69840  139.70467  Entire home/apt               1   \n",
       "\n",
       "   number_of_reviews last_review  reviews_per_month  availability_365  \\\n",
       "0                 55  2020-04-25               2.21               173   \n",
       "1                 72  2020-03-25               2.11                 9   \n",
       "2                 18  2020-03-23               3.46               288   \n",
       "3                  2  2020-04-02               1.76                87   \n",
       "4                 86  2020-01-30               2.00               156   \n",
       "\n",
       "          y  label near_station  dist_from_sta  180_over  review_label  \n",
       "0   12008.0      1         清澄白河     385.676932         0             1  \n",
       "1    6667.0      1           入谷     155.380783         0             1  \n",
       "2    9923.0      1        堀切菖蒲園     369.710584         1             1  \n",
       "3    8109.0      1           初台     626.117356         0             1  \n",
       "4  100390.0      1          東新宿     265.953843         0             1  "
      ]
     },
     "execution_count": 7,
     "metadata": {},
     "output_type": "execute_result"
    }
   ],
   "source": [
    "all_data.head()"
   ]
  },
  {
   "cell_type": "markdown",
   "id": "403e7dde",
   "metadata": {},
   "source": [
    "# 特徴量削除"
   ]
  },
  {
   "cell_type": "code",
   "execution_count": 8,
   "id": "5ed68887",
   "metadata": {},
   "outputs": [],
   "source": [
    "id = test[\"id\"]\n",
    "drop_list = [\"id\",\"host_id\",\"latitude\",\"longitude\"]\n",
    "train.drop(drop_list,axis=1,inplace=True)\n",
    "test.drop(drop_list,axis=1,inplace=True)\n",
    "all_data.drop([\"y\"],axis=1,inplace=True)\n",
    "all_data.drop(drop_list,axis=1,inplace=True)"
   ]
  },
  {
   "cell_type": "code",
   "execution_count": 9,
   "id": "5498817e",
   "metadata": {},
   "outputs": [
    {
     "data": {
      "text/plain": [
       "Index(['name', 'neighbourhood', 'room_type', 'minimum_nights',\n",
       "       'number_of_reviews', 'last_review', 'reviews_per_month',\n",
       "       'availability_365', 'label', 'near_station', 'dist_from_sta',\n",
       "       '180_over', 'review_label'],\n",
       "      dtype='object')"
      ]
     },
     "execution_count": 9,
     "metadata": {},
     "output_type": "execute_result"
    }
   ],
   "source": [
    "all_data.columns"
   ]
  },
  {
   "cell_type": "code",
   "execution_count": 10,
   "id": "c1ddd96f",
   "metadata": {},
   "outputs": [],
   "source": [
    "#one_hot_list = [\"room_type\",\"neighbourhood\",'near_station']\n",
    "one_hot_list = [\"room_type\",\"neighbourhood\"]\n",
    "all_data = pd.get_dummies(all_data,columns=one_hot_list)"
   ]
  },
  {
   "cell_type": "code",
   "execution_count": 11,
   "id": "e004411a",
   "metadata": {},
   "outputs": [
    {
     "name": "stdout",
     "output_type": "stream",
     "text": [
      "0.7216248023372918\n"
     ]
    }
   ],
   "source": [
    "X_all = all_data.drop([\"label\"],axis=1).select_dtypes(exclude=\"object\")\n",
    "y_all = all_data[\"label\"]\n",
    "X_train_adv, X_valid_adv, y_train_adv, y_valid_adv = train_test_split(X_all, y_all, test_size=0.33, random_state=42, shuffle=True)\n",
    "#model = RFR()\n",
    "model = lgb.LGBMRegressor()\n",
    "model.fit(X_train_adv, y_train_adv)\n",
    "y_pred = model.predict(X_valid_adv)\n",
    "current_roc_auc_score = roc_auc_score(y_valid_adv,y_pred)\n",
    "print(current_roc_auc_score)"
   ]
  },
  {
   "cell_type": "code",
   "execution_count": 12,
   "id": "0ff76830",
   "metadata": {},
   "outputs": [
    {
     "name": "stdout",
     "output_type": "stream",
     "text": [
      "minimum_nights: 0.7044952588217919\n",
      "availability_365: 0.6994134827114502\n"
     ]
    }
   ],
   "source": [
    "for column in all_data.drop(\"label\",axis=1).select_dtypes(exclude=\"object\").columns:\n",
    "    X_all = all_data.drop([\"label\",column],axis=1).select_dtypes(exclude=\"object\")\n",
    "    y_all = all_data[\"label\"]\n",
    "    X_train_adv, X_valid_adv, y_train_adv, y_valid_adv = train_test_split(X_all, y_all, test_size=0.33, random_state=42, shuffle=True)\n",
    "    scores = []\n",
    "    kf = KFold(n_splits=5, shuffle=True, random_state=1)\n",
    "    for tr_idx, va_idx in kf.split(X_all):\n",
    "        tr_x, va_x = X_all.iloc[tr_idx], X_all.iloc[va_idx]\n",
    "        tr_y, va_y = y_all.iloc[tr_idx], y_all.iloc[va_idx]\n",
    "        model.fit(tr_x, tr_y)\n",
    "        va_pred = model.predict(va_x)\n",
    "        roc_auc = roc_auc_score(va_y,va_pred)\n",
    "        scores.append(roc_auc)\n",
    "    # クロスバリデーションの平均のスコアを出力する\n",
    "    if current_roc_auc_score - 0.01 > np.mean(scores):\n",
    "        print(\"{0}:\".format(column),np.mean(scores))\n"
   ]
  },
  {
   "cell_type": "markdown",
   "id": "12d771c9",
   "metadata": {},
   "source": [
    "# 駅情報等を追加し、モデル作成"
   ]
  },
  {
   "cell_type": "code",
   "execution_count": 13,
   "id": "d8ed2253",
   "metadata": {},
   "outputs": [],
   "source": [
    "total_data = pd.concat([train,test],axis=0)\n",
    "total_data[\"near_station\"] = distance[\"near_station\"]\n",
    "total_data[\"dist_from_sta\"] = distance[\"dist_from_sta\"]\n",
    "total_data = pd.get_dummies(total_data,columns=one_hot_list)\n",
    "train,test = total_data[:train.shape[0]],total_data[train.shape[0]:].drop(\"y\",axis=1)"
   ]
  },
  {
   "cell_type": "code",
   "execution_count": 14,
   "id": "5e4a9645",
   "metadata": {},
   "outputs": [
    {
     "data": {
      "text/plain": [
       "Index(['name', 'minimum_nights', 'number_of_reviews', 'last_review',\n",
       "       'reviews_per_month', 'availability_365', 'y', '180_over',\n",
       "       'review_label', 'near_station', 'dist_from_sta',\n",
       "       'room_type_Entire home/apt', 'room_type_Hotel room',\n",
       "       'room_type_Private room', 'room_type_Shared room',\n",
       "       'neighbourhood_Adachi Ku', 'neighbourhood_Arakawa Ku',\n",
       "       'neighbourhood_Bunkyo Ku', 'neighbourhood_Chiyoda Ku',\n",
       "       'neighbourhood_Chuo Ku', 'neighbourhood_Edogawa Ku',\n",
       "       'neighbourhood_Itabashi Ku', 'neighbourhood_Katsushika Ku',\n",
       "       'neighbourhood_Kita Ku', 'neighbourhood_Koto Ku',\n",
       "       'neighbourhood_Meguro Ku', 'neighbourhood_Minato Ku',\n",
       "       'neighbourhood_Nakano Ku', 'neighbourhood_Nerima Ku',\n",
       "       'neighbourhood_Ota Ku', 'neighbourhood_Setagaya Ku',\n",
       "       'neighbourhood_Shibuya Ku', 'neighbourhood_Shinagawa Ku',\n",
       "       'neighbourhood_Shinjuku Ku', 'neighbourhood_Suginami Ku',\n",
       "       'neighbourhood_Sumida Ku', 'neighbourhood_Taito Ku',\n",
       "       'neighbourhood_Toshima Ku'],\n",
       "      dtype='object')"
      ]
     },
     "execution_count": 14,
     "metadata": {},
     "output_type": "execute_result"
    }
   ],
   "source": [
    "train.columns"
   ]
  },
  {
   "cell_type": "code",
   "execution_count": 15,
   "id": "258dc2b6",
   "metadata": {},
   "outputs": [],
   "source": [
    "int_columns = train.select_dtypes(exclude=\"object\").columns\n",
    "#yを対数化\n",
    "X_train,y_train = train[int_columns].drop([\"y\"],axis=1),train[\"y\"]\n",
    "X_test = test.select_dtypes(exclude=\"object\")"
   ]
  },
  {
   "cell_type": "code",
   "execution_count": 16,
   "id": "b148a366",
   "metadata": {},
   "outputs": [
    {
     "data": {
      "text/plain": [
       "Index(['minimum_nights', 'number_of_reviews', 'reviews_per_month',\n",
       "       'availability_365', '180_over', 'review_label', 'dist_from_sta',\n",
       "       'room_type_Entire home/apt', 'room_type_Hotel room',\n",
       "       'room_type_Private room', 'room_type_Shared room',\n",
       "       'neighbourhood_Adachi Ku', 'neighbourhood_Arakawa Ku',\n",
       "       'neighbourhood_Bunkyo Ku', 'neighbourhood_Chiyoda Ku',\n",
       "       'neighbourhood_Chuo Ku', 'neighbourhood_Edogawa Ku',\n",
       "       'neighbourhood_Itabashi Ku', 'neighbourhood_Katsushika Ku',\n",
       "       'neighbourhood_Kita Ku', 'neighbourhood_Koto Ku',\n",
       "       'neighbourhood_Meguro Ku', 'neighbourhood_Minato Ku',\n",
       "       'neighbourhood_Nakano Ku', 'neighbourhood_Nerima Ku',\n",
       "       'neighbourhood_Ota Ku', 'neighbourhood_Setagaya Ku',\n",
       "       'neighbourhood_Shibuya Ku', 'neighbourhood_Shinagawa Ku',\n",
       "       'neighbourhood_Shinjuku Ku', 'neighbourhood_Suginami Ku',\n",
       "       'neighbourhood_Sumida Ku', 'neighbourhood_Taito Ku',\n",
       "       'neighbourhood_Toshima Ku'],\n",
       "      dtype='object')"
      ]
     },
     "execution_count": 16,
     "metadata": {},
     "output_type": "execute_result"
    }
   ],
   "source": [
    "X_train.columns"
   ]
  },
  {
   "cell_type": "code",
   "execution_count": 17,
   "id": "e550cbe0",
   "metadata": {},
   "outputs": [
    {
     "name": "stdout",
     "output_type": "stream",
     "text": [
      "0.75918691951211\n",
      "0.7434478966341447\n",
      "0.7190506379762718\n",
      "0.7179218392668415\n",
      "0.7568336502496094\n",
      "RMSLE: 0.7393\n"
     ]
    }
   ],
   "source": [
    "#定義したX_train,y_trainを入れる\n",
    "scores = []\n",
    "kf = KFold(n_splits=5, shuffle=True, random_state=1)\n",
    "for tr_idx, va_idx in kf.split(X_train):\n",
    "    tr_x, va_x = X_train.iloc[tr_idx], X_train.iloc[va_idx]\n",
    "    tr_y, va_y = y_train.iloc[tr_idx], y_train.iloc[va_idx]\n",
    "    model.fit(tr_x, np.log1p(tr_y))\n",
    "    va_pred = np.expm1(model.predict(va_x))\n",
    "    rmsle = np.sqrt(mean_squared_error(np.log1p(va_y), np.log1p(va_pred)))\n",
    "    scores.append(rmsle)\n",
    "    print(rmsle)\n",
    "\n",
    "# クロスバリデーションの平均のスコアを出力する\n",
    "print(f'RMSLE: {np.mean(scores):.4f}')"
   ]
  },
  {
   "cell_type": "code",
   "execution_count": 18,
   "id": "20ebbd98",
   "metadata": {},
   "outputs": [],
   "source": [
    "#model = RFR()\n",
    "model.fit(X_train,np.log1p(y_train))\n",
    "pred = np.expm1(model.predict(X_test))"
   ]
  },
  {
   "cell_type": "code",
   "execution_count": 19,
   "id": "e71772c9",
   "metadata": {},
   "outputs": [
    {
     "data": {
      "text/html": [
       "<div>\n",
       "<style scoped>\n",
       "    .dataframe tbody tr th:only-of-type {\n",
       "        vertical-align: middle;\n",
       "    }\n",
       "\n",
       "    .dataframe tbody tr th {\n",
       "        vertical-align: top;\n",
       "    }\n",
       "\n",
       "    .dataframe thead th {\n",
       "        text-align: right;\n",
       "    }\n",
       "</style>\n",
       "<table border=\"1\" class=\"dataframe\">\n",
       "  <thead>\n",
       "    <tr style=\"text-align: right;\">\n",
       "      <th></th>\n",
       "      <th>id</th>\n",
       "      <th>y</th>\n",
       "    </tr>\n",
       "  </thead>\n",
       "  <tbody>\n",
       "    <tr>\n",
       "      <th>0</th>\n",
       "      <td>1</td>\n",
       "      <td>13296.310045</td>\n",
       "    </tr>\n",
       "    <tr>\n",
       "      <th>1</th>\n",
       "      <td>2</td>\n",
       "      <td>15227.232583</td>\n",
       "    </tr>\n",
       "    <tr>\n",
       "      <th>2</th>\n",
       "      <td>3</td>\n",
       "      <td>17003.347836</td>\n",
       "    </tr>\n",
       "    <tr>\n",
       "      <th>3</th>\n",
       "      <td>4</td>\n",
       "      <td>16961.739051</td>\n",
       "    </tr>\n",
       "    <tr>\n",
       "      <th>4</th>\n",
       "      <td>5</td>\n",
       "      <td>14424.894739</td>\n",
       "    </tr>\n",
       "    <tr>\n",
       "      <th>...</th>\n",
       "      <td>...</td>\n",
       "      <td>...</td>\n",
       "    </tr>\n",
       "    <tr>\n",
       "      <th>4991</th>\n",
       "      <td>4992</td>\n",
       "      <td>15286.789268</td>\n",
       "    </tr>\n",
       "    <tr>\n",
       "      <th>4992</th>\n",
       "      <td>4993</td>\n",
       "      <td>5307.140412</td>\n",
       "    </tr>\n",
       "    <tr>\n",
       "      <th>4993</th>\n",
       "      <td>4994</td>\n",
       "      <td>13274.697448</td>\n",
       "    </tr>\n",
       "    <tr>\n",
       "      <th>4994</th>\n",
       "      <td>4995</td>\n",
       "      <td>3344.855684</td>\n",
       "    </tr>\n",
       "    <tr>\n",
       "      <th>4995</th>\n",
       "      <td>4996</td>\n",
       "      <td>7632.703611</td>\n",
       "    </tr>\n",
       "  </tbody>\n",
       "</table>\n",
       "<p>4996 rows × 2 columns</p>\n",
       "</div>"
      ],
      "text/plain": [
       "        id             y\n",
       "0        1  13296.310045\n",
       "1        2  15227.232583\n",
       "2        3  17003.347836\n",
       "3        4  16961.739051\n",
       "4        5  14424.894739\n",
       "...    ...           ...\n",
       "4991  4992  15286.789268\n",
       "4992  4993   5307.140412\n",
       "4993  4994  13274.697448\n",
       "4994  4995   3344.855684\n",
       "4995  4996   7632.703611\n",
       "\n",
       "[4996 rows x 2 columns]"
      ]
     },
     "execution_count": 19,
     "metadata": {},
     "output_type": "execute_result"
    }
   ],
   "source": [
    "submission = pd.DataFrame({\"id\":id,\"y\":pred})\n",
    "submission"
   ]
  },
  {
   "cell_type": "code",
   "execution_count": 20,
   "id": "57c4db72",
   "metadata": {},
   "outputs": [],
   "source": [
    "submission.to_csv(\"submission.csv\",index=False)"
   ]
  },
  {
   "cell_type": "code",
   "execution_count": null,
   "id": "a9c0e5d3",
   "metadata": {},
   "outputs": [],
   "source": []
  },
  {
   "cell_type": "code",
   "execution_count": null,
   "id": "0b93d27d",
   "metadata": {},
   "outputs": [],
   "source": []
  }
 ],
 "metadata": {
  "kernelspec": {
   "display_name": "Python 3 (ipykernel)",
   "language": "python",
   "name": "python3"
  },
  "language_info": {
   "codemirror_mode": {
    "name": "ipython",
    "version": 3
   },
   "file_extension": ".py",
   "mimetype": "text/x-python",
   "name": "python",
   "nbconvert_exporter": "python",
   "pygments_lexer": "ipython3",
   "version": "3.8.10"
  }
 },
 "nbformat": 4,
 "nbformat_minor": 5
}
